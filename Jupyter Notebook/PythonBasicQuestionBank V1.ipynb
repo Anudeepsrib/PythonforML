{
 "cells": [
  {
   "cell_type": "markdown",
   "metadata": {},
   "source": [
    "# Section A\n",
    "\n",
    "This section contains 50 questions each of 5 marks. Each question in this section has 5 sub-questions which carry 1 mark each \n",
    "\n",
    "NOTE: If the question does not provide required array or list it is to the student to randomly generate one and work out for the solution."
   ]
  },
  {
   "cell_type": "markdown",
   "metadata": {},
   "source": [
    "## Q1\n",
    "1. Import the numpy package under the name np\n",
    "2. Print the numpy version and the configuration\n",
    "3. Create a null vector of size 10\n",
    "4. How to find the memory size of any array\n",
    "5. Print an array of four Random Integers Between 1 and 100"
   ]
  },
  {
   "cell_type": "code",
   "execution_count": 9,
   "metadata": {},
   "outputs": [],
   "source": [
    "#1\n",
    "import numpy as np"
   ]
  },
  {
   "cell_type": "code",
   "execution_count": 10,
   "metadata": {},
   "outputs": [
    {
     "name": "stdout",
     "output_type": "stream",
     "text": [
      "1.16.4\n"
     ]
    }
   ],
   "source": [
    "#2\n",
    "print(np.__version__)"
   ]
  },
  {
   "cell_type": "code",
   "execution_count": 11,
   "metadata": {},
   "outputs": [
    {
     "name": "stdout",
     "output_type": "stream",
     "text": [
      "mkl_info:\n",
      "    libraries = ['mkl_rt']\n",
      "    library_dirs = ['C:/Users/Anudeep/Anaconda3\\\\Library\\\\lib']\n",
      "    define_macros = [('SCIPY_MKL_H', None), ('HAVE_CBLAS', None)]\n",
      "    include_dirs = ['C:\\\\Program Files (x86)\\\\IntelSWTools\\\\compilers_and_libraries_2019.0.117\\\\windows\\\\mkl', 'C:\\\\Program Files (x86)\\\\IntelSWTools\\\\compilers_and_libraries_2019.0.117\\\\windows\\\\mkl\\\\include', 'C:\\\\Program Files (x86)\\\\IntelSWTools\\\\compilers_and_libraries_2019.0.117\\\\windows\\\\mkl\\\\lib', 'C:/Users/Anudeep/Anaconda3\\\\Library\\\\include']\n",
      "blas_mkl_info:\n",
      "    libraries = ['mkl_rt']\n",
      "    library_dirs = ['C:/Users/Anudeep/Anaconda3\\\\Library\\\\lib']\n",
      "    define_macros = [('SCIPY_MKL_H', None), ('HAVE_CBLAS', None)]\n",
      "    include_dirs = ['C:\\\\Program Files (x86)\\\\IntelSWTools\\\\compilers_and_libraries_2019.0.117\\\\windows\\\\mkl', 'C:\\\\Program Files (x86)\\\\IntelSWTools\\\\compilers_and_libraries_2019.0.117\\\\windows\\\\mkl\\\\include', 'C:\\\\Program Files (x86)\\\\IntelSWTools\\\\compilers_and_libraries_2019.0.117\\\\windows\\\\mkl\\\\lib', 'C:/Users/Anudeep/Anaconda3\\\\Library\\\\include']\n",
      "blas_opt_info:\n",
      "    libraries = ['mkl_rt']\n",
      "    library_dirs = ['C:/Users/Anudeep/Anaconda3\\\\Library\\\\lib']\n",
      "    define_macros = [('SCIPY_MKL_H', None), ('HAVE_CBLAS', None)]\n",
      "    include_dirs = ['C:\\\\Program Files (x86)\\\\IntelSWTools\\\\compilers_and_libraries_2019.0.117\\\\windows\\\\mkl', 'C:\\\\Program Files (x86)\\\\IntelSWTools\\\\compilers_and_libraries_2019.0.117\\\\windows\\\\mkl\\\\include', 'C:\\\\Program Files (x86)\\\\IntelSWTools\\\\compilers_and_libraries_2019.0.117\\\\windows\\\\mkl\\\\lib', 'C:/Users/Anudeep/Anaconda3\\\\Library\\\\include']\n",
      "lapack_mkl_info:\n",
      "    libraries = ['mkl_rt']\n",
      "    library_dirs = ['C:/Users/Anudeep/Anaconda3\\\\Library\\\\lib']\n",
      "    define_macros = [('SCIPY_MKL_H', None), ('HAVE_CBLAS', None)]\n",
      "    include_dirs = ['C:\\\\Program Files (x86)\\\\IntelSWTools\\\\compilers_and_libraries_2019.0.117\\\\windows\\\\mkl', 'C:\\\\Program Files (x86)\\\\IntelSWTools\\\\compilers_and_libraries_2019.0.117\\\\windows\\\\mkl\\\\include', 'C:\\\\Program Files (x86)\\\\IntelSWTools\\\\compilers_and_libraries_2019.0.117\\\\windows\\\\mkl\\\\lib', 'C:/Users/Anudeep/Anaconda3\\\\Library\\\\include']\n",
      "lapack_opt_info:\n",
      "    libraries = ['mkl_rt']\n",
      "    library_dirs = ['C:/Users/Anudeep/Anaconda3\\\\Library\\\\lib']\n",
      "    define_macros = [('SCIPY_MKL_H', None), ('HAVE_CBLAS', None)]\n",
      "    include_dirs = ['C:\\\\Program Files (x86)\\\\IntelSWTools\\\\compilers_and_libraries_2019.0.117\\\\windows\\\\mkl', 'C:\\\\Program Files (x86)\\\\IntelSWTools\\\\compilers_and_libraries_2019.0.117\\\\windows\\\\mkl\\\\include', 'C:\\\\Program Files (x86)\\\\IntelSWTools\\\\compilers_and_libraries_2019.0.117\\\\windows\\\\mkl\\\\lib', 'C:/Users/Anudeep/Anaconda3\\\\Library\\\\include']\n"
     ]
    }
   ],
   "source": [
    "#3\n",
    "np.show_config()"
   ]
  },
  {
   "cell_type": "code",
   "execution_count": 121,
   "metadata": {},
   "outputs": [
    {
     "name": "stdout",
     "output_type": "stream",
     "text": [
      "[0. 0. 0. 0. 0. 0. 0. 0. 0. 0.]\n",
      "80 bytes\n"
     ]
    }
   ],
   "source": [
    "#4\n",
    "Z = np.zeros(10)\n",
    "print(Z)\n",
    "print(\"%d bytes\" % (Z.size * Z.itemsize))"
   ]
  },
  {
   "cell_type": "code",
   "execution_count": 16,
   "metadata": {},
   "outputs": [
    {
     "data": {
      "text/plain": [
       "array([32, 99, 43, 85])"
      ]
     },
     "execution_count": 16,
     "metadata": {},
     "output_type": "execute_result"
    }
   ],
   "source": [
    "#5\n",
    "np.random.randint(low=1, high=100, size=4)"
   ]
  },
  {
   "cell_type": "markdown",
   "metadata": {},
   "source": [
    "# Q2\n",
    "1.\tCreate a null vector of size 10 but the fifth value which is 1\n",
    "2.\tCreate a vector with values ranging from 10 to 49\n",
    "3.\tReverse a vector (first element becomes last) \n",
    "4.\tCreate a 3x3 matrix with values ranging from 0 to 8 \n",
    "5.\tFind indices of non-zero elements from [1,2,0,0,4,0]"
   ]
  },
  {
   "cell_type": "code",
   "execution_count": 17,
   "metadata": {},
   "outputs": [
    {
     "name": "stdout",
     "output_type": "stream",
     "text": [
      "[0. 0. 0. 0. 1. 0. 0. 0. 0. 0.]\n"
     ]
    }
   ],
   "source": [
    "#1\n",
    "Z = np.zeros(10)\n",
    "Z[4] = 1\n",
    "print(Z)"
   ]
  },
  {
   "cell_type": "code",
   "execution_count": 18,
   "metadata": {},
   "outputs": [
    {
     "name": "stdout",
     "output_type": "stream",
     "text": [
      "[10 11 12 13 14 15 16 17 18 19 20 21 22 23 24 25 26 27 28 29 30 31 32 33\n",
      " 34 35 36 37 38 39 40 41 42 43 44 45 46 47 48 49]\n"
     ]
    }
   ],
   "source": [
    "#2\n",
    "Z = np.arange(10,50)\n",
    "print(Z)"
   ]
  },
  {
   "cell_type": "code",
   "execution_count": 19,
   "metadata": {},
   "outputs": [
    {
     "name": "stdout",
     "output_type": "stream",
     "text": [
      "[49 48 47 46 45 44 43 42 41 40 39 38 37 36 35 34 33 32 31 30 29 28 27 26\n",
      " 25 24 23 22 21 20 19 18 17 16 15 14 13 12 11 10  9  8  7  6  5  4  3  2\n",
      "  1  0]\n"
     ]
    }
   ],
   "source": [
    "#3\n",
    "Z = np.arange(50)\n",
    "Z = Z[::-1]\n",
    "print(Z)"
   ]
  },
  {
   "cell_type": "code",
   "execution_count": 20,
   "metadata": {},
   "outputs": [
    {
     "name": "stdout",
     "output_type": "stream",
     "text": [
      "(array([0, 1, 4], dtype=int64),)\n"
     ]
    }
   ],
   "source": [
    "#4\n",
    "nz = np.nonzero([1,2,0,0,4,0])\n",
    "print(nz)"
   ]
  },
  {
   "cell_type": "code",
   "execution_count": 21,
   "metadata": {},
   "outputs": [
    {
     "name": "stdout",
     "output_type": "stream",
     "text": [
      "(array([0, 1, 4], dtype=int64),)\n"
     ]
    }
   ],
   "source": [
    "#5\n",
    "nz = np.nonzero([1,2,0,0,4,0])\n",
    "print(nz)"
   ]
  },
  {
   "cell_type": "markdown",
   "metadata": {},
   "source": [
    "# Q3\n",
    "1.\tCreate a 3x3 identity matrix\n",
    "2.\tCreate a 3x3x3 array with random values\n",
    "3.\tCreate a 10x10 array with random values and find the minimum and maximum values\n",
    "4.\tCreate a random vector of size 30 and find the mean value\n",
    "5.\tCreate a 2d array with 1 on the border and 0 inside "
   ]
  },
  {
   "cell_type": "code",
   "execution_count": 22,
   "metadata": {},
   "outputs": [
    {
     "name": "stdout",
     "output_type": "stream",
     "text": [
      "[[1. 0. 0.]\n",
      " [0. 1. 0.]\n",
      " [0. 0. 1.]]\n"
     ]
    }
   ],
   "source": [
    "#1\n",
    "Z = np.eye(3)\n",
    "print(Z)"
   ]
  },
  {
   "cell_type": "code",
   "execution_count": 23,
   "metadata": {},
   "outputs": [
    {
     "name": "stdout",
     "output_type": "stream",
     "text": [
      "[[[0.22685976 0.9873285  0.98724481]\n",
      "  [0.52462201 0.01097092 0.58523914]\n",
      "  [0.30704699 0.07888087 0.64188332]]\n",
      "\n",
      " [[0.71293143 0.62245086 0.47860589]\n",
      "  [0.62050043 0.5330352  0.96308998]\n",
      "  [0.38062565 0.52681113 0.09385442]]\n",
      "\n",
      " [[0.54779581 0.03046003 0.58735917]\n",
      "  [0.18193876 0.52559785 0.00565192]\n",
      "  [0.51871274 0.39245289 0.5209079 ]]]\n"
     ]
    }
   ],
   "source": [
    "#2\n",
    "Z = np.random.random((3,3,3))\n",
    "print(Z)"
   ]
  },
  {
   "cell_type": "code",
   "execution_count": 24,
   "metadata": {},
   "outputs": [
    {
     "name": "stdout",
     "output_type": "stream",
     "text": [
      "0.0006660587686437847 0.9768166041140639\n"
     ]
    }
   ],
   "source": [
    "#3\n",
    "Z = np.random.random((10,10))\n",
    "Zmin, Zmax = Z.min(), Z.max()\n",
    "print(Zmin, Zmax)"
   ]
  },
  {
   "cell_type": "code",
   "execution_count": 25,
   "metadata": {},
   "outputs": [
    {
     "name": "stdout",
     "output_type": "stream",
     "text": [
      "0.4861481851860925\n"
     ]
    }
   ],
   "source": [
    "#4\n",
    "Z = np.random.random(30)\n",
    "m = Z.mean()\n",
    "print(m)"
   ]
  },
  {
   "cell_type": "code",
   "execution_count": 26,
   "metadata": {},
   "outputs": [
    {
     "name": "stdout",
     "output_type": "stream",
     "text": [
      "[[1. 1. 1. 1. 1. 1. 1. 1. 1. 1.]\n",
      " [1. 0. 0. 0. 0. 0. 0. 0. 0. 1.]\n",
      " [1. 0. 0. 0. 0. 0. 0. 0. 0. 1.]\n",
      " [1. 0. 0. 0. 0. 0. 0. 0. 0. 1.]\n",
      " [1. 0. 0. 0. 0. 0. 0. 0. 0. 1.]\n",
      " [1. 0. 0. 0. 0. 0. 0. 0. 0. 1.]\n",
      " [1. 0. 0. 0. 0. 0. 0. 0. 0. 1.]\n",
      " [1. 0. 0. 0. 0. 0. 0. 0. 0. 1.]\n",
      " [1. 0. 0. 0. 0. 0. 0. 0. 0. 1.]\n",
      " [1. 1. 1. 1. 1. 1. 1. 1. 1. 1.]]\n"
     ]
    }
   ],
   "source": [
    "#5\n",
    "Z = np.ones((10,10))\n",
    "Z[1:-1,1:-1] = 0\n",
    "print(Z)"
   ]
  },
  {
   "cell_type": "markdown",
   "metadata": {},
   "source": [
    "# Q4\n",
    "###### 1. How to add a border (filled with 0's) around an existing array?\n",
    "###### 2. What is the result of the following expression?\n",
    "\n",
    "0 * np.nan |\n",
    "np.nan == np.nan |\n",
    "np.inf > np.nan |\n",
    "np.nan - np.nan |\n",
    "np.nan in set([np.nan]) |\n",
    "0.3 == 3 * 0.1 |\n",
    "\n",
    "\n",
    "###### 3.Create a 5x5 matrix with values 1,2,3,4 just below the diagonal\n",
    "###### 4.Create a 8x8 matrix and fill it with a checkerboard pattern\n",
    "###### 5.Consider a (6,7,8) shape array, what is the index (x,y,z) of the 100th element?"
   ]
  },
  {
   "cell_type": "code",
   "execution_count": 27,
   "metadata": {},
   "outputs": [
    {
     "name": "stdout",
     "output_type": "stream",
     "text": [
      "[[0. 0. 0. 0. 0. 0. 0.]\n",
      " [0. 1. 1. 1. 1. 1. 0.]\n",
      " [0. 1. 1. 1. 1. 1. 0.]\n",
      " [0. 1. 1. 1. 1. 1. 0.]\n",
      " [0. 1. 1. 1. 1. 1. 0.]\n",
      " [0. 1. 1. 1. 1. 1. 0.]\n",
      " [0. 0. 0. 0. 0. 0. 0.]]\n"
     ]
    }
   ],
   "source": [
    "#1\n",
    "Z = np.ones((5,5))\n",
    "Z = np.pad(Z, pad_width=1, mode='constant', constant_values=0)\n",
    "print(Z)"
   ]
  },
  {
   "cell_type": "code",
   "execution_count": 28,
   "metadata": {},
   "outputs": [
    {
     "name": "stdout",
     "output_type": "stream",
     "text": [
      "nan\n",
      "False\n",
      "False\n",
      "nan\n",
      "True\n",
      "False\n"
     ]
    }
   ],
   "source": [
    "#2\n",
    "print(0 * np.nan)\n",
    "print(np.nan == np.nan)\n",
    "print(np.inf > np.nan)\n",
    "print(np.nan - np.nan)\n",
    "print(np.nan in set([np.nan]))\n",
    "print(0.3 == 3 * 0.1)"
   ]
  },
  {
   "cell_type": "code",
   "execution_count": 29,
   "metadata": {},
   "outputs": [
    {
     "name": "stdout",
     "output_type": "stream",
     "text": [
      "[[0 0 0 0 0]\n",
      " [1 0 0 0 0]\n",
      " [0 2 0 0 0]\n",
      " [0 0 3 0 0]\n",
      " [0 0 0 4 0]]\n"
     ]
    }
   ],
   "source": [
    "#3\n",
    "Z = np.diag(1+np.arange(4),k=-1)\n",
    "print(Z)"
   ]
  },
  {
   "cell_type": "code",
   "execution_count": 30,
   "metadata": {},
   "outputs": [
    {
     "name": "stdout",
     "output_type": "stream",
     "text": [
      "[[0 1 0 1 0 1 0 1]\n",
      " [1 0 1 0 1 0 1 0]\n",
      " [0 1 0 1 0 1 0 1]\n",
      " [1 0 1 0 1 0 1 0]\n",
      " [0 1 0 1 0 1 0 1]\n",
      " [1 0 1 0 1 0 1 0]\n",
      " [0 1 0 1 0 1 0 1]\n",
      " [1 0 1 0 1 0 1 0]]\n"
     ]
    }
   ],
   "source": [
    "#4\n",
    "Z = np.zeros((8,8),dtype=int)\n",
    "Z[1::2,::2] = 1\n",
    "Z[::2,1::2] = 1\n",
    "print(Z)"
   ]
  },
  {
   "cell_type": "code",
   "execution_count": 31,
   "metadata": {},
   "outputs": [
    {
     "name": "stdout",
     "output_type": "stream",
     "text": [
      "(1, 5, 3)\n"
     ]
    }
   ],
   "source": [
    "#5\n",
    "print(np.unravel_index(99,(6,7,8)))\n"
   ]
  },
  {
   "cell_type": "markdown",
   "metadata": {},
   "source": [
    "# Q5\n",
    "\n",
    "1. Create a checkerboard 8x8 matrix using the tile function\n",
    "2. Normalize a 5x5 random matrix\n",
    "3. Create a custom dtype that describes a color as four unsigned bytes (RGBA)\n",
    "4. Multiply a 5x3 matrix by a 3x2 matrix (real matrix product)\n",
    "5. Given a 1D array, negate all elements which are between 3 and 8, in place."
   ]
  },
  {
   "cell_type": "code",
   "execution_count": 32,
   "metadata": {},
   "outputs": [
    {
     "name": "stdout",
     "output_type": "stream",
     "text": [
      "[[0 1 0 1 0 1 0 1]\n",
      " [1 0 1 0 1 0 1 0]\n",
      " [0 1 0 1 0 1 0 1]\n",
      " [1 0 1 0 1 0 1 0]\n",
      " [0 1 0 1 0 1 0 1]\n",
      " [1 0 1 0 1 0 1 0]\n",
      " [0 1 0 1 0 1 0 1]\n",
      " [1 0 1 0 1 0 1 0]]\n"
     ]
    }
   ],
   "source": [
    "#1\n",
    "Z = np.tile( np.array([[0,1],[1,0]]), (4,4))\n",
    "print(Z)"
   ]
  },
  {
   "cell_type": "code",
   "execution_count": 33,
   "metadata": {},
   "outputs": [
    {
     "name": "stdout",
     "output_type": "stream",
     "text": [
      "[[ 0.73564822  0.23402425  1.65119342  1.33126299 -0.72700644]\n",
      " [ 0.67289747 -0.04218472  0.28036695 -1.00178766  1.41553101]\n",
      " [-1.42337628  0.6513035   0.13305909  1.24807197 -0.11902264]\n",
      " [-1.61310185 -0.9092063  -0.53151758  0.6105547   1.54390777]\n",
      " [-1.55351265 -1.03057788 -0.57144632  0.22914261 -1.21422361]]\n"
     ]
    }
   ],
   "source": [
    "#2\n",
    "Z = np.random.random((5,5))\n",
    "Z = (Z - np.mean (Z)) / (np.std (Z))\n",
    "print(Z)"
   ]
  },
  {
   "cell_type": "code",
   "execution_count": 34,
   "metadata": {},
   "outputs": [],
   "source": [
    "#3\n",
    "color = np.dtype([(\"r\", np.ubyte, 1),\n",
    "                  (\"g\", np.ubyte, 1),\n",
    "                  (\"b\", np.ubyte, 1),\n",
    "                  (\"a\", np.ubyte, 1)])"
   ]
  },
  {
   "cell_type": "code",
   "execution_count": 35,
   "metadata": {},
   "outputs": [
    {
     "name": "stdout",
     "output_type": "stream",
     "text": [
      "[[3. 3.]\n",
      " [3. 3.]\n",
      " [3. 3.]\n",
      " [3. 3.]\n",
      " [3. 3.]]\n"
     ]
    }
   ],
   "source": [
    "#4\n",
    "Z = np.dot(np.ones((5,3)), np.ones((3,2)))\n",
    "print(Z)"
   ]
  },
  {
   "cell_type": "code",
   "execution_count": 36,
   "metadata": {},
   "outputs": [
    {
     "name": "stdout",
     "output_type": "stream",
     "text": [
      "[ 0  1  2  3 -4 -5 -6 -7  8  9 10]\n"
     ]
    }
   ],
   "source": [
    "#5\n",
    "Z = np.arange(11)\n",
    "Z[(3 < Z) & (Z < 8)] *= -1\n",
    "print(Z)"
   ]
  },
  {
   "cell_type": "markdown",
   "metadata": {},
   "source": [
    "# Q6\n",
    "\n",
    "1. Consider an integer vector Z, Is Z**Z legal?\n",
    "2. Consider an integer vector Z, Is 2 << Z >> 2  legal?\n",
    "3. Consider an integer vector Z, Is Z <- Z legal?\n",
    "4. How to round away from zero a float array ? \n",
    "5. How to find common values between two arrays?"
   ]
  },
  {
   "cell_type": "code",
   "execution_count": 125,
   "metadata": {},
   "outputs": [
    {
     "data": {
      "text/plain": [
       "array([[27., 27.],\n",
       "       [27., 27.],\n",
       "       [27., 27.],\n",
       "       [27., 27.],\n",
       "       [27., 27.]])"
      ]
     },
     "execution_count": 125,
     "metadata": {},
     "output_type": "execute_result"
    }
   ],
   "source": [
    "#1\n",
    "Z = np.dot(np.ones((5,3)), np.ones((3,2))) \n",
    "Z**Z\n",
    "#Legal"
   ]
  },
  {
   "cell_type": "code",
   "execution_count": 126,
   "metadata": {},
   "outputs": [
    {
     "ename": "TypeError",
     "evalue": "ufunc 'left_shift' not supported for the input types, and the inputs could not be safely coerced to any supported types according to the casting rule ''safe''",
     "output_type": "error",
     "traceback": [
      "\u001b[1;31m---------------------------------------------------------------------------\u001b[0m",
      "\u001b[1;31mTypeError\u001b[0m                                 Traceback (most recent call last)",
      "\u001b[1;32m<ipython-input-126-98c9a06b1e8e>\u001b[0m in \u001b[0;36m<module>\u001b[1;34m\u001b[0m\n\u001b[0;32m      1\u001b[0m \u001b[1;31m#2\u001b[0m\u001b[1;33m\u001b[0m\u001b[1;33m\u001b[0m\u001b[1;33m\u001b[0m\u001b[0m\n\u001b[1;32m----> 2\u001b[1;33m \u001b[1;36m2\u001b[0m \u001b[1;33m<<\u001b[0m \u001b[0mZ\u001b[0m \u001b[1;33m>>\u001b[0m \u001b[1;36m2\u001b[0m\u001b[1;33m\u001b[0m\u001b[1;33m\u001b[0m\u001b[0m\n\u001b[0m\u001b[0;32m      3\u001b[0m \u001b[1;31m#Illegal\u001b[0m\u001b[1;33m\u001b[0m\u001b[1;33m\u001b[0m\u001b[1;33m\u001b[0m\u001b[0m\n",
      "\u001b[1;31mTypeError\u001b[0m: ufunc 'left_shift' not supported for the input types, and the inputs could not be safely coerced to any supported types according to the casting rule ''safe''"
     ]
    }
   ],
   "source": [
    "#2\n",
    "2 << Z >> 2\n",
    "#Illegal"
   ]
  },
  {
   "cell_type": "code",
   "execution_count": 127,
   "metadata": {},
   "outputs": [
    {
     "data": {
      "text/plain": [
       "array([[False, False],\n",
       "       [False, False],\n",
       "       [False, False],\n",
       "       [False, False],\n",
       "       [False, False]])"
      ]
     },
     "execution_count": 127,
     "metadata": {},
     "output_type": "execute_result"
    }
   ],
   "source": [
    "#3\n",
    "Z <- Z\n",
    "#Legal"
   ]
  },
  {
   "cell_type": "code",
   "execution_count": 128,
   "metadata": {},
   "outputs": [
    {
     "name": "stdout",
     "output_type": "stream",
     "text": [
      "[-1.  1.  3.  7.  8. -4. -4. -7. -6. -5.]\n"
     ]
    }
   ],
   "source": [
    "#4\n",
    "Z = np.random.uniform(-10,+10,10)\n",
    "print (np.copysign(np.ceil(np.abs(Z)), Z))"
   ]
  },
  {
   "cell_type": "code",
   "execution_count": 129,
   "metadata": {},
   "outputs": [
    {
     "name": "stdout",
     "output_type": "stream",
     "text": [
      "[2 4 7 9]\n"
     ]
    }
   ],
   "source": [
    "#5\n",
    "Z1 = np.random.randint(0,10,10)\n",
    "Z2 = np.random.randint(0,10,10)\n",
    "print(np.intersect1d(Z1,Z2))"
   ]
  },
  {
   "cell_type": "markdown",
   "metadata": {},
   "source": [
    "# Q7\n",
    "1. How to ignore all numpy warnings (not recommended)?\n",
    "2. Is the following expressions true?\n",
    "np.sqrt(-1) == np.emath.sqrt(-1)\n",
    "3. Consider an integer vector Z, Is 1j*Z legal?\n",
    "4. Consider an integer vector Z, Is Z/1/1 legal?\n",
    "5. Consider an integer vector Z, Is Z<Z>Z legal?"
   ]
  },
  {
   "cell_type": "code",
   "execution_count": 42,
   "metadata": {},
   "outputs": [],
   "source": [
    "#1\n",
    "defaults = np.seterr(all=\"ignore\")\n",
    "Z = np.ones(1) / 0"
   ]
  },
  {
   "cell_type": "code",
   "execution_count": 43,
   "metadata": {},
   "outputs": [],
   "source": [
    "# Back to sanity\n",
    "_ = np.seterr(**defaults)"
   ]
  },
  {
   "cell_type": "code",
   "execution_count": 44,
   "metadata": {},
   "outputs": [
    {
     "name": "stdout",
     "output_type": "stream",
     "text": [
      "(array([0, 1, 4], dtype=int64),)\n"
     ]
    }
   ],
   "source": [
    "# Equivalently with a context manager\n",
    "nz = np.nonzero([1,2,0,0,4,0])\n",
    "print(nz)"
   ]
  },
  {
   "cell_type": "code",
   "execution_count": 45,
   "metadata": {},
   "outputs": [
    {
     "name": "stderr",
     "output_type": "stream",
     "text": [
      "C:\\Users\\Anudeep\\Anaconda3\\lib\\site-packages\\ipykernel_launcher.py:1: RuntimeWarning: invalid value encountered in sqrt\n",
      "  \"\"\"Entry point for launching an IPython kernel.\n"
     ]
    },
    {
     "data": {
      "text/plain": [
       "False"
      ]
     },
     "execution_count": 45,
     "metadata": {},
     "output_type": "execute_result"
    }
   ],
   "source": [
    "#2\n",
    "np.sqrt(-1) == np.emath.sqrt(-1)"
   ]
  },
  {
   "cell_type": "code",
   "execution_count": 130,
   "metadata": {},
   "outputs": [
    {
     "data": {
      "text/plain": [
       "array([[0.+3.j, 0.+3.j],\n",
       "       [0.+3.j, 0.+3.j],\n",
       "       [0.+3.j, 0.+3.j],\n",
       "       [0.+3.j, 0.+3.j],\n",
       "       [0.+3.j, 0.+3.j]])"
      ]
     },
     "execution_count": 130,
     "metadata": {},
     "output_type": "execute_result"
    }
   ],
   "source": [
    "#3\n",
    "Z = np.dot(np.ones((5,3)), np.ones((3,2))) \n",
    "1j*Z\n",
    "#legal"
   ]
  },
  {
   "cell_type": "code",
   "execution_count": 131,
   "metadata": {},
   "outputs": [
    {
     "data": {
      "text/plain": [
       "array([[3., 3.],\n",
       "       [3., 3.],\n",
       "       [3., 3.],\n",
       "       [3., 3.],\n",
       "       [3., 3.]])"
      ]
     },
     "execution_count": 131,
     "metadata": {},
     "output_type": "execute_result"
    }
   ],
   "source": [
    "#4\n",
    "Z/1/1\n",
    "#legal"
   ]
  },
  {
   "cell_type": "code",
   "execution_count": 132,
   "metadata": {},
   "outputs": [
    {
     "ename": "ValueError",
     "evalue": "The truth value of an array with more than one element is ambiguous. Use a.any() or a.all()",
     "output_type": "error",
     "traceback": [
      "\u001b[1;31m---------------------------------------------------------------------------\u001b[0m",
      "\u001b[1;31mValueError\u001b[0m                                Traceback (most recent call last)",
      "\u001b[1;32m<ipython-input-132-3d6bd4c67731>\u001b[0m in \u001b[0;36m<module>\u001b[1;34m\u001b[0m\n\u001b[0;32m      1\u001b[0m \u001b[1;31m#5\u001b[0m\u001b[1;33m\u001b[0m\u001b[1;33m\u001b[0m\u001b[1;33m\u001b[0m\u001b[0m\n\u001b[1;32m----> 2\u001b[1;33m \u001b[0mZ\u001b[0m\u001b[1;33m<\u001b[0m\u001b[0mZ\u001b[0m\u001b[1;33m>\u001b[0m\u001b[0mZ\u001b[0m\u001b[1;33m\u001b[0m\u001b[1;33m\u001b[0m\u001b[0m\n\u001b[0m",
      "\u001b[1;31mValueError\u001b[0m: The truth value of an array with more than one element is ambiguous. Use a.any() or a.all()"
     ]
    }
   ],
   "source": [
    "#5\n",
    "Z<Z>Z\n",
    "#Illegal"
   ]
  },
  {
   "cell_type": "markdown",
   "metadata": {},
   "source": [
    "# Q8\n",
    "1. Create a string called str1 and populate as \"Great Learning\". \n",
    "2. Print first character of the string \n",
    "3. Print last character of the string \n",
    "4. Print first three character of the string \n",
    "5. Print last three character of the string "
   ]
  },
  {
   "cell_type": "code",
   "execution_count": 49,
   "metadata": {},
   "outputs": [
    {
     "name": "stdout",
     "output_type": "stream",
     "text": [
      "G\n",
      "g\n",
      "Gre\n",
      "ing\n"
     ]
    }
   ],
   "source": [
    "#1\n",
    "str1 = \"Great Learning\"\n",
    "#2\n",
    "print (str1[0])        \n",
    "#3\n",
    "print (str1[-1])   \n",
    "#4\n",
    "print (str1[0:3])       \n",
    "#5\n",
    "print (str1[-3:])   "
   ]
  },
  {
   "cell_type": "markdown",
   "metadata": {},
   "source": [
    "# Q9\n",
    "\n",
    "1. Create a string called str2 and populate as \"Great Learning\". \n",
    "2. Find length of the string str2\n",
    "3. Find length of the string str2\n",
    "4. Find index number for word Learning in the string str2 \n",
    "5. Find nomber of white space within of the string str2"
   ]
  },
  {
   "cell_type": "code",
   "execution_count": 50,
   "metadata": {},
   "outputs": [
    {
     "name": "stdout",
     "output_type": "stream",
     "text": [
      "14\n",
      "1\n",
      "6\n",
      "1\n"
     ]
    }
   ],
   "source": [
    "#1\n",
    "str2 = \"Great Learning\"\n",
    "#2\n",
    "length = len(str2)\n",
    "print(length)\n",
    "#3\n",
    "print (str2.count('G'))\n",
    "#4\n",
    "print (str2.index('Learning'))\n",
    "#5\n",
    "print (str2.count(' '))"
   ]
  },
  {
   "cell_type": "markdown",
   "metadata": {},
   "source": [
    "# Q 10\n",
    "\n",
    "1. Create a string \"India is great\" and print it.\n",
    "2. Convert each character in Capital letter and print\n",
    "3. Convert each character in small letter and print\n",
    "4. Convert First character of each word as Capital rest in small letter and print\n",
    "5. Convert only First character of whole string as Capital rest in small letter and print"
   ]
  },
  {
   "cell_type": "code",
   "execution_count": 51,
   "metadata": {},
   "outputs": [
    {
     "name": "stdout",
     "output_type": "stream",
     "text": [
      "India is great\n",
      "INDIA IS GREAT\n",
      "india is great\n",
      "India Is Great\n",
      "India is great\n"
     ]
    }
   ],
   "source": [
    "\n",
    "#1\n",
    "string = \"India is great\"\n",
    "print (string)\n",
    "#2\n",
    "print (string.upper())\n",
    "#3\n",
    "print (string.lower())\n",
    "#4\n",
    "print (string.title())\n",
    "#5\n",
    "print (string.capitalize())\n"
   ]
  },
  {
   "cell_type": "markdown",
   "metadata": {},
   "source": [
    "# Q 11\n",
    "\n",
    "1. Create a sting with your roll number and check if this sting is alphanumeric\n",
    "2. Create a sting with your name and check if this sting has only alphabets no numbers\n",
    "3. Create a two dimension numpy array  3x3 and display its content\n",
    "4. Create a two dimension numpy array  3x3 and display its content\n",
    "5. Access middle most (Cental element of the 2d array)"
   ]
  },
  {
   "cell_type": "code",
   "execution_count": 52,
   "metadata": {},
   "outputs": [
    {
     "name": "stdout",
     "output_type": "stream",
     "text": [
      "False\n",
      "True\n",
      "[[ 5 10 15]\n",
      " [20 25 30]\n",
      " [35 40 45]]\n"
     ]
    },
    {
     "data": {
      "text/plain": [
       "25"
      ]
     },
     "execution_count": 52,
     "metadata": {},
     "output_type": "execute_result"
    }
   ],
   "source": [
    "#1\n",
    "GL_Rollno = \"Bang_DSC_123\"\n",
    "print(GL_Rollno.isalnum()) \n",
    "\n",
    "#2\n",
    "name = \"Bharat\"\n",
    "print(name.isalpha())\n",
    "\n",
    "#3\n",
    "arr2dims = np.array(([5,10,15],[20,25,30],[35,40,45]))\n",
    "arr2dims\n",
    "\n",
    "#4\n",
    "arr2dims = np.array(([5,10,15],[20,25,30],[35,40,45]))\n",
    "print(arr2dims)\n",
    "#5\n",
    "arr2dims[1][1]"
   ]
  },
  {
   "cell_type": "markdown",
   "metadata": {},
   "source": [
    "# Q 12\n",
    "\n",
    "1. Create a list with 5 single digit number (1 to 9)\n",
    "2. Convert above into numpy array \n",
    "3. validate data of the Array by printing it\n",
    "4. Print size of the array\n",
    "5. Create a 4x4 zero matrix and print"
   ]
  },
  {
   "cell_type": "code",
   "execution_count": 53,
   "metadata": {},
   "outputs": [
    {
     "name": "stdout",
     "output_type": "stream",
     "text": [
      "<class 'numpy.ndarray'>\n",
      "(5,)\n",
      "[[0. 0. 0. 0.]\n",
      " [0. 0. 0. 0.]\n",
      " [0. 0. 0. 0.]\n",
      " [0. 0. 0. 0.]]\n"
     ]
    }
   ],
   "source": [
    "#1\n",
    "l1 = [1,2,3,4,5]\n",
    "\n",
    "#2\n",
    "Arr = np.array(l1)\n",
    "\n",
    "#3\n",
    "print(type(Arr))\n",
    "\n",
    "#4\n",
    "print(Arr.shape)\n",
    "\n",
    "#5\n",
    "zero = np.zeros((4,4))\n",
    "print(zero)"
   ]
  },
  {
   "cell_type": "markdown",
   "metadata": {},
   "source": [
    "# Q 13\n",
    "string =\" I love python \"\n",
    "1. Print the length of the string\n",
    "2. Remove space from both the ends\n",
    "3. Remove only left side whitespace\n",
    "4. Remove only right side whitespace\n",
    "5. Compare the lenghts of the string in each step"
   ]
  },
  {
   "cell_type": "code",
   "execution_count": 54,
   "metadata": {},
   "outputs": [
    {
     "name": "stdout",
     "output_type": "stream",
     "text": [
      " I love python \n",
      "15\n",
      "I love python\n",
      "13\n",
      "I love python \n",
      "14\n",
      " I love python\n",
      "14\n"
     ]
    }
   ],
   "source": [
    "#1 string =\" I love python \"\n",
    "print(string)\n",
    "print(len(string))\n",
    "\n",
    "#2\n",
    "str3 = string.strip(' ')  ##removes space from both ends\n",
    "print (str3)\n",
    "print(len(str3))\n",
    "\n",
    "#3\n",
    "str4 = string.lstrip()    ##removes only left side whitespace\n",
    "print (str4)\n",
    "print(len(str4))\n",
    "\n",
    "#4\n",
    "str5 = string.rstrip()    #removes only side size whitespace\n",
    "print (str5)\n",
    "print(len(str5))\n",
    "## add by validating last character such as str[-1]\n"
   ]
  },
  {
   "cell_type": "markdown",
   "metadata": {},
   "source": [
    "# Q 14\n",
    "\n",
    "battleDeaths = [482, 93, 392, 920, 813, 199, 374, 237, 244]\n",
    "\n",
    "1. Create a function that updates all battle deaths by adding 100\n",
    "2. Create a list that applies updated() to all elements of battleDeaths\n",
    "3. Map the lambda function x() over battleDeaths\n",
    "4. Remove first three entries of the list, battleDeaths and print the result\n",
    "5. Append the list with the entry 145"
   ]
  },
  {
   "cell_type": "code",
   "execution_count": 55,
   "metadata": {},
   "outputs": [],
   "source": [
    "#1\n",
    "battleDeaths = [482, 93, 392, 920, 813, 199, 374, 237, 244]\n",
    "\n",
    "def updated(x): return x + 100"
   ]
  },
  {
   "cell_type": "code",
   "execution_count": 56,
   "metadata": {},
   "outputs": [
    {
     "data": {
      "text/plain": [
       "[582, 193, 492, 1020, 913, 299, 474, 337, 344]"
      ]
     },
     "execution_count": 56,
     "metadata": {},
     "output_type": "execute_result"
    }
   ],
   "source": [
    "#2\n",
    "list(map(updated, battleDeaths))"
   ]
  },
  {
   "cell_type": "code",
   "execution_count": 57,
   "metadata": {},
   "outputs": [
    {
     "data": {
      "text/plain": [
       "[582, 193, 492, 1020, 913, 299, 474, 337, 344]"
      ]
     },
     "execution_count": 57,
     "metadata": {},
     "output_type": "execute_result"
    }
   ],
   "source": [
    "#3\n",
    "list(map((lambda x: x + 100), battleDeaths))"
   ]
  },
  {
   "cell_type": "code",
   "execution_count": 58,
   "metadata": {},
   "outputs": [
    {
     "data": {
      "text/plain": [
       "[920, 813, 199, 374, 237, 244]"
      ]
     },
     "execution_count": 58,
     "metadata": {},
     "output_type": "execute_result"
    }
   ],
   "source": [
    "#4\n",
    "newlist = battleDeaths[3:]\n",
    "newlist"
   ]
  },
  {
   "cell_type": "code",
   "execution_count": 59,
   "metadata": {},
   "outputs": [
    {
     "data": {
      "text/plain": [
       "[920, 813, 199, 374, 237, 244, 145]"
      ]
     },
     "execution_count": 59,
     "metadata": {},
     "output_type": "execute_result"
    }
   ],
   "source": [
    "#5\n",
    "newlist.append(145)\n",
    "newlist"
   ]
  },
  {
   "cell_type": "markdown",
   "metadata": {},
   "source": [
    "# Q 15\n",
    "\n",
    "1. Import the math module\n",
    "2. Display the value of pi.\n",
    "3. Absolute value\n",
    "4. 32.09292 - Truncate (drop decimal digits)\n",
    "5. 2.569 - Round by 2 digits\n"
   ]
  },
  {
   "cell_type": "code",
   "execution_count": 60,
   "metadata": {},
   "outputs": [],
   "source": [
    "#1\n",
    "import math"
   ]
  },
  {
   "cell_type": "code",
   "execution_count": 61,
   "metadata": {},
   "outputs": [
    {
     "data": {
      "text/plain": [
       "3.141592653589793"
      ]
     },
     "execution_count": 61,
     "metadata": {},
     "output_type": "execute_result"
    }
   ],
   "source": [
    "#2\n",
    "math.pi"
   ]
  },
  {
   "cell_type": "code",
   "execution_count": 62,
   "metadata": {},
   "outputs": [
    {
     "data": {
      "text/plain": [
       "20"
      ]
     },
     "execution_count": 62,
     "metadata": {},
     "output_type": "execute_result"
    }
   ],
   "source": [
    "#3\n",
    "abs(-20)"
   ]
  },
  {
   "cell_type": "code",
   "execution_count": 63,
   "metadata": {},
   "outputs": [
    {
     "data": {
      "text/plain": [
       "32"
      ]
     },
     "execution_count": 63,
     "metadata": {},
     "output_type": "execute_result"
    }
   ],
   "source": [
    "#4\n",
    "math.trunc(32.09292)"
   ]
  },
  {
   "cell_type": "code",
   "execution_count": 64,
   "metadata": {},
   "outputs": [
    {
     "data": {
      "text/plain": [
       "2.57"
      ]
     },
     "execution_count": 64,
     "metadata": {},
     "output_type": "execute_result"
    }
   ],
   "source": [
    "#5\n",
    "round(2.569, 2)"
   ]
  },
  {
   "cell_type": "markdown",
   "metadata": {},
   "source": [
    "# SECTION B\n",
    "\n",
    "This section contains 30 question each of 10 marks. Each question in this section may have 4 sub-questions which carry 2.5 marks each or 2 sub-questions each of 5 marks\n",
    "\n",
    "NOTE: If the question does not provide required array or list it is to the student to randomly generate one and work out for the solution."
   ]
  },
  {
   "cell_type": "markdown",
   "metadata": {},
   "source": [
    "# Q 1\n",
    "1. Extract the integer part of a random array using 5 different methods\n",
    "2. Create a 5x5 matrix with row values ranging from 0 to 4\n",
    "3. Consider a generator function that generates 10 integers and use it to build an array\n",
    "4. Create a vector of size 10 with values ranging from 0 to 1, both excluded"
   ]
  },
  {
   "cell_type": "markdown",
   "metadata": {},
   "source": []
  },
  {
   "cell_type": "code",
   "execution_count": 65,
   "metadata": {},
   "outputs": [
    {
     "name": "stdout",
     "output_type": "stream",
     "text": [
      "[6. 7. 0. 1. 9. 7. 2. 9. 1. 0.]\n",
      "[6. 7. 0. 1. 9. 7. 2. 9. 1. 0.]\n",
      "[6. 7. 0. 1. 9. 7. 2. 9. 1. 0.]\n",
      "[6 7 0 1 9 7 2 9 1 0]\n",
      "[6. 7. 0. 1. 9. 7. 2. 9. 1. 0.]\n"
     ]
    }
   ],
   "source": [
    "#1\n",
    "Z = np.random.uniform(0,10,10)\n",
    "\n",
    "print (Z - Z%1)\n",
    "print (np.floor(Z))\n",
    "print (np.ceil(Z)-1)\n",
    "print (Z.astype(int))\n",
    "print (np.trunc(Z))"
   ]
  },
  {
   "cell_type": "code",
   "execution_count": 66,
   "metadata": {},
   "outputs": [
    {
     "name": "stdout",
     "output_type": "stream",
     "text": [
      "[[0. 1. 2. 3. 4.]\n",
      " [0. 1. 2. 3. 4.]\n",
      " [0. 1. 2. 3. 4.]\n",
      " [0. 1. 2. 3. 4.]\n",
      " [0. 1. 2. 3. 4.]]\n"
     ]
    }
   ],
   "source": [
    "#2\n",
    "Z = np.zeros((5,5))\n",
    "Z += np.arange(5)\n",
    "print(Z)"
   ]
  },
  {
   "cell_type": "code",
   "execution_count": 67,
   "metadata": {},
   "outputs": [
    {
     "name": "stdout",
     "output_type": "stream",
     "text": [
      "[0. 1. 2. 3. 4. 5. 6. 7. 8. 9.]\n"
     ]
    }
   ],
   "source": [
    "#3\n",
    "def generate():\n",
    "    for x in range(10):\n",
    "        yield x\n",
    "Z = np.fromiter(generate(),dtype=float,count=-1)\n",
    "print(Z)"
   ]
  },
  {
   "cell_type": "code",
   "execution_count": 68,
   "metadata": {},
   "outputs": [
    {
     "name": "stdout",
     "output_type": "stream",
     "text": [
      "[0.09090909 0.18181818 0.27272727 0.36363636 0.45454545 0.54545455\n",
      " 0.63636364 0.72727273 0.81818182 0.90909091]\n"
     ]
    }
   ],
   "source": [
    "#4\n",
    "Z = np.linspace(0,1,11,endpoint=False)[1:]\n",
    "print(Z)"
   ]
  },
  {
   "cell_type": "markdown",
   "metadata": {},
   "source": [
    "# Q 2\n",
    "1. Create a random vector of size 10 and sort it\n",
    "2. How to sum a small array faster than np.sum?\n",
    "3. Consider two random array A and B, check if they are equal\n",
    "4. Make an array immutable (read-only)"
   ]
  },
  {
   "cell_type": "code",
   "execution_count": 69,
   "metadata": {},
   "outputs": [
    {
     "name": "stdout",
     "output_type": "stream",
     "text": [
      "[0.03628956 0.08649426 0.1156283  0.38222844 0.40667928 0.47338577\n",
      " 0.74808082 0.90105422 0.96050519 0.96551908]\n"
     ]
    }
   ],
   "source": [
    "#1\n",
    "Z = np.random.random(10)\n",
    "Z.sort()\n",
    "print(Z)"
   ]
  },
  {
   "cell_type": "code",
   "execution_count": 70,
   "metadata": {},
   "outputs": [
    {
     "data": {
      "text/plain": [
       "45"
      ]
     },
     "execution_count": 70,
     "metadata": {},
     "output_type": "execute_result"
    }
   ],
   "source": [
    "#2\n",
    "Z = np.arange(10)\n",
    "np.add.reduce(Z)"
   ]
  },
  {
   "cell_type": "code",
   "execution_count": 71,
   "metadata": {},
   "outputs": [
    {
     "name": "stdout",
     "output_type": "stream",
     "text": [
      "False\n",
      "False\n"
     ]
    }
   ],
   "source": [
    "#3\n",
    "A = np.random.randint(0,2,5)\n",
    "B = np.random.randint(0,2,5)\n",
    "\n",
    "# Assuming identical shape of the arrays and a tolerance for the comparison of values\n",
    "equal = np.allclose(A,B)\n",
    "print(equal)\n",
    "\n",
    "# Checking both the shape and the element values, no tolerance (values have to be exactly equal)\n",
    "equal = np.array_equal(A,B)\n",
    "print(equal)"
   ]
  },
  {
   "cell_type": "code",
   "execution_count": 72,
   "metadata": {},
   "outputs": [
    {
     "ename": "ValueError",
     "evalue": "assignment destination is read-only",
     "output_type": "error",
     "traceback": [
      "\u001b[1;31m---------------------------------------------------------------------------\u001b[0m",
      "\u001b[1;31mValueError\u001b[0m                                Traceback (most recent call last)",
      "\u001b[1;32m<ipython-input-72-dcc5e7f145b5>\u001b[0m in \u001b[0;36m<module>\u001b[1;34m\u001b[0m\n\u001b[0;32m      1\u001b[0m \u001b[0mZ\u001b[0m \u001b[1;33m=\u001b[0m \u001b[0mnp\u001b[0m\u001b[1;33m.\u001b[0m\u001b[0mzeros\u001b[0m\u001b[1;33m(\u001b[0m\u001b[1;36m10\u001b[0m\u001b[1;33m)\u001b[0m\u001b[1;33m\u001b[0m\u001b[1;33m\u001b[0m\u001b[0m\n\u001b[0;32m      2\u001b[0m \u001b[0mZ\u001b[0m\u001b[1;33m.\u001b[0m\u001b[0mflags\u001b[0m\u001b[1;33m.\u001b[0m\u001b[0mwriteable\u001b[0m \u001b[1;33m=\u001b[0m \u001b[1;32mFalse\u001b[0m\u001b[1;33m\u001b[0m\u001b[1;33m\u001b[0m\u001b[0m\n\u001b[1;32m----> 3\u001b[1;33m \u001b[0mZ\u001b[0m\u001b[1;33m[\u001b[0m\u001b[1;36m0\u001b[0m\u001b[1;33m]\u001b[0m \u001b[1;33m=\u001b[0m \u001b[1;36m1\u001b[0m\u001b[1;33m\u001b[0m\u001b[1;33m\u001b[0m\u001b[0m\n\u001b[0m",
      "\u001b[1;31mValueError\u001b[0m: assignment destination is read-only"
     ]
    }
   ],
   "source": [
    "#4\n",
    "Z = np.zeros(10)\n",
    "Z.flags.writeable = False\n",
    "Z[0] = 1"
   ]
  },
  {
   "cell_type": "markdown",
   "metadata": {},
   "source": [
    "# Q 3\n",
    "\n",
    "1. Consider a random 10x2 matrix representing cartesian coordinates, convert them to polar coordinates\n",
    "2. Create random vector of size 10 and replace the maximum value by 0\n",
    "3. Create a structured array with x and y coordinates covering the [0,1]x[0,1] area\n",
    "4. Given two arrays, X and Y, construct the Cauchy matrix C (Cij =1/(xi - yj))"
   ]
  },
  {
   "cell_type": "code",
   "execution_count": 73,
   "metadata": {},
   "outputs": [
    {
     "name": "stdout",
     "output_type": "stream",
     "text": [
      "[0.59712228 0.25352955 0.6953355  0.83683428 0.59138586 0.62457268\n",
      " 1.33998351 0.9163346  0.95351752 0.83850444]\n",
      "[1.39159427 1.15660968 0.69862305 1.51179634 0.95608848 0.82111437\n",
      " 0.80661696 1.41677078 0.13058794 1.26306858]\n"
     ]
    }
   ],
   "source": [
    "#1\n",
    "Z = np.random.random((10,2))\n",
    "X,Y = Z[:,0], Z[:,1]\n",
    "R = np.sqrt(X**2+Y**2)\n",
    "T = np.arctan2(Y,X)\n",
    "print(R)\n",
    "print(T)"
   ]
  },
  {
   "cell_type": "code",
   "execution_count": 74,
   "metadata": {},
   "outputs": [
    {
     "name": "stdout",
     "output_type": "stream",
     "text": [
      "[0.83077684 0.28696231 0.62687695 0.3898976  0.65605987 0.32700401\n",
      " 0.85385508 0.29013406 0.         0.23860837]\n"
     ]
    }
   ],
   "source": [
    "#2\n",
    "Z = np.random.random(10)\n",
    "Z[Z.argmax()] = 0\n",
    "print(Z)"
   ]
  },
  {
   "cell_type": "code",
   "execution_count": 75,
   "metadata": {},
   "outputs": [
    {
     "name": "stdout",
     "output_type": "stream",
     "text": [
      "[[(0.  , 0.  ) (0.25, 0.  ) (0.5 , 0.  ) (0.75, 0.  ) (1.  , 0.  )]\n",
      " [(0.  , 0.25) (0.25, 0.25) (0.5 , 0.25) (0.75, 0.25) (1.  , 0.25)]\n",
      " [(0.  , 0.5 ) (0.25, 0.5 ) (0.5 , 0.5 ) (0.75, 0.5 ) (1.  , 0.5 )]\n",
      " [(0.  , 0.75) (0.25, 0.75) (0.5 , 0.75) (0.75, 0.75) (1.  , 0.75)]\n",
      " [(0.  , 1.  ) (0.25, 1.  ) (0.5 , 1.  ) (0.75, 1.  ) (1.  , 1.  )]]\n"
     ]
    }
   ],
   "source": [
    "#3\n",
    "Z = np.zeros((5,5), [('x',float),('y',float)])\n",
    "Z['x'], Z['y'] = np.meshgrid(np.linspace(0,1,5),\n",
    "                             np.linspace(0,1,5))\n",
    "print(Z)"
   ]
  },
  {
   "cell_type": "code",
   "execution_count": 76,
   "metadata": {},
   "outputs": [
    {
     "name": "stdout",
     "output_type": "stream",
     "text": [
      "3638.1636371179666\n"
     ]
    }
   ],
   "source": [
    "#4\n",
    "X = np.arange(8)\n",
    "Y = X + 0.5\n",
    "C = 1.0 / np.subtract.outer(X, Y)\n",
    "print(np.linalg.det(C))"
   ]
  },
  {
   "cell_type": "markdown",
   "metadata": {},
   "source": [
    "# Q 4\n",
    "1. Print the minimum and maximum representable value for each numpy scalar type\n",
    "2. How to print all the values of an array?\n",
    "3. How to find the closest value (to a given scalar) in a vector?\n",
    "4. Create a structured array representing a position (x,y) and a color (r,g,b)\n"
   ]
  },
  {
   "cell_type": "code",
   "execution_count": 77,
   "metadata": {},
   "outputs": [
    {
     "name": "stdout",
     "output_type": "stream",
     "text": [
      "-128\n",
      "127\n",
      "-2147483648\n",
      "2147483647\n",
      "-9223372036854775808\n",
      "9223372036854775807\n",
      "-3.4028235e+38\n",
      "3.4028235e+38\n",
      "1.1920929e-07\n",
      "-1.7976931348623157e+308\n",
      "1.7976931348623157e+308\n",
      "2.220446049250313e-16\n"
     ]
    }
   ],
   "source": [
    "#1\n",
    "for dtype in [np.int8, np.int32, np.int64]:\n",
    "   print(np.iinfo(dtype).min)\n",
    "   print(np.iinfo(dtype).max)\n",
    "for dtype in [np.float32, np.float64]:\n",
    "   print(np.finfo(dtype).min)\n",
    "   print(np.finfo(dtype).max)\n",
    "   print(np.finfo(dtype).eps)"
   ]
  },
  {
   "cell_type": "code",
   "execution_count": 120,
   "metadata": {},
   "outputs": [
    {
     "data": {
      "text/plain": [
       "array([[0., 0., 0., 0., 0., 0., 0., 0., 0., 0., 0., 0., 0., 0., 0., 0.],\n",
       "       [0., 0., 0., 0., 0., 0., 0., 0., 0., 0., 0., 0., 0., 0., 0., 0.],\n",
       "       [0., 0., 0., 0., 0., 0., 0., 0., 0., 0., 0., 0., 0., 0., 0., 0.],\n",
       "       [0., 0., 0., 0., 0., 0., 0., 0., 0., 0., 0., 0., 0., 0., 0., 0.],\n",
       "       [0., 0., 0., 0., 0., 0., 0., 0., 0., 0., 0., 0., 0., 0., 0., 0.],\n",
       "       [0., 0., 0., 0., 0., 0., 0., 0., 0., 0., 0., 0., 0., 0., 0., 0.],\n",
       "       [0., 0., 0., 0., 0., 0., 0., 0., 0., 0., 0., 0., 0., 0., 0., 0.],\n",
       "       [0., 0., 0., 0., 0., 0., 0., 0., 0., 0., 0., 0., 0., 0., 0., 0.],\n",
       "       [0., 0., 0., 0., 0., 0., 0., 0., 0., 0., 0., 0., 0., 0., 0., 0.],\n",
       "       [0., 0., 0., 0., 0., 0., 0., 0., 0., 0., 0., 0., 0., 0., 0., 0.],\n",
       "       [0., 0., 0., 0., 0., 0., 0., 0., 0., 0., 0., 0., 0., 0., 0., 0.],\n",
       "       [0., 0., 0., 0., 0., 0., 0., 0., 0., 0., 0., 0., 0., 0., 0., 0.],\n",
       "       [0., 0., 0., 0., 0., 0., 0., 0., 0., 0., 0., 0., 0., 0., 0., 0.],\n",
       "       [0., 0., 0., 0., 0., 0., 0., 0., 0., 0., 0., 0., 0., 0., 0., 0.],\n",
       "       [0., 0., 0., 0., 0., 0., 0., 0., 0., 0., 0., 0., 0., 0., 0., 0.],\n",
       "       [0., 0., 0., 0., 0., 0., 0., 0., 0., 0., 0., 0., 0., 0., 0., 0.]])"
      ]
     },
     "execution_count": 120,
     "metadata": {},
     "output_type": "execute_result"
    }
   ],
   "source": [
    "#2\n",
    "#np.set_printoptions(threshold=np.nan)\n",
    "Z = np.zeros((16,16))\n",
    "Z"
   ]
  },
  {
   "cell_type": "code",
   "execution_count": 79,
   "metadata": {},
   "outputs": [
    {
     "name": "stdout",
     "output_type": "stream",
     "text": [
      "8\n"
     ]
    }
   ],
   "source": [
    "#3\n",
    "Z = np.arange(100)\n",
    "v = np.random.uniform(0,100)\n",
    "index = (np.abs(Z-v)).argmin()\n",
    "print(Z[index])"
   ]
  },
  {
   "cell_type": "code",
   "execution_count": 80,
   "metadata": {},
   "outputs": [
    {
     "name": "stdout",
     "output_type": "stream",
     "text": [
      "[((0., 0.), (0., 0., 0.)) ((0., 0.), (0., 0., 0.))\n",
      " ((0., 0.), (0., 0., 0.)) ((0., 0.), (0., 0., 0.))\n",
      " ((0., 0.), (0., 0., 0.)) ((0., 0.), (0., 0., 0.))\n",
      " ((0., 0.), (0., 0., 0.)) ((0., 0.), (0., 0., 0.))\n",
      " ((0., 0.), (0., 0., 0.)) ((0., 0.), (0., 0., 0.))]\n"
     ]
    }
   ],
   "source": [
    "#4\n",
    "Z = np.zeros(10, [ ('position', [ ('x', float, 1),\n",
    "                                  ('y', float, 1)]),\n",
    "                   ('color',    [ ('r', float, 1),\n",
    "                                  ('g', float, 1),\n",
    "                                  ('b', float, 1)])])\n",
    "print(Z)"
   ]
  },
  {
   "cell_type": "markdown",
   "metadata": {},
   "source": [
    "# Q 5\n",
    "1. Consider a random vector with shape (100,2) representing coordinates, find point by point distances\n",
    "2. How to convert a float (32 bits) array into an integer (32 bits) in place?\n",
    "3. How to read the following file?\n",
    "```\n",
    "1, 2, 3, 4, 5\n",
    "6,  ,  , 7, 8\n",
    " ,  , 9,10,11\n",
    "```\n",
    "\n",
    "4. What is the equivalent of enumerate for numpy arrays?"
   ]
  },
  {
   "cell_type": "code",
   "execution_count": 81,
   "metadata": {},
   "outputs": [
    {
     "name": "stdout",
     "output_type": "stream",
     "text": [
      "[[0.         0.67490522 0.80027764 0.37535767 0.18153747 0.43971105\n",
      "  0.7024046  0.79946599 0.23807085 0.93239006]\n",
      " [0.67490522 0.         0.76223602 0.33456513 0.50942482 0.24098502\n",
      "  0.72794368 0.16690289 0.76914416 0.30062412]\n",
      " [0.80027764 0.76223602 0.         0.59402349 0.7969035  0.74794803\n",
      "  0.10218587 0.91990343 0.64608821 0.7460805 ]\n",
      " [0.37535767 0.33456513 0.59402349 0.         0.25754257 0.17140783\n",
      "  0.52245647 0.48911634 0.43484713 0.56024011]\n",
      " [0.18153747 0.50942482 0.7969035  0.25754257 0.         0.26899274\n",
      "  0.70894336 0.62322139 0.37343022 0.78458236]\n",
      " [0.43971105 0.24098502 0.74794803 0.17140783 0.26899274 0.\n",
      "  0.68437945 0.36122679 0.5666142  0.52680531]\n",
      " [0.7024046  0.72794368 0.10218587 0.52245647 0.70894336 0.68437945\n",
      "  0.         0.89097439 0.54392584 0.75249915]\n",
      " [0.79946599 0.16690289 0.91990343 0.48911634 0.62322139 0.36122679\n",
      "  0.89097439 0.         0.91893196 0.32661484]\n",
      " [0.23807085 0.76914416 0.64608821 0.43484713 0.37343022 0.5666142\n",
      "  0.54392584 0.91893196 0.         0.97462394]\n",
      " [0.93239006 0.30062412 0.7460805  0.56024011 0.78458236 0.52680531\n",
      "  0.75249915 0.32661484 0.97462394 0.        ]]\n",
      "[[0.         0.11541142 0.76680314 0.40096561 0.79518385 0.47299819\n",
      "  0.87629449 0.20903697 0.93771369 0.24265896]\n",
      " [0.11541142 0.         0.88110575 0.4920796  0.9007771  0.5634924\n",
      "  0.97234646 0.28346976 1.0382423  0.13488656]\n",
      " [0.76680314 0.88110575 0.         0.60283505 0.45689593 0.59631226\n",
      "  0.62684151 0.72105532 0.59978421 1.00814829]\n",
      " [0.40096561 0.4920796  0.60283505 0.         0.42902359 0.07204248\n",
      "  0.48075287 0.21309086 0.55078306 0.56803763]\n",
      " [0.79518385 0.9007771  0.45689593 0.42902359 0.         0.37012925\n",
      "  0.17009716 0.63705906 0.16622188 0.9916401 ]\n",
      " [0.47299819 0.5634924  0.59631226 0.07204248 0.37012925 0.\n",
      "  0.41047869 0.28276897 0.48319944 0.63612867]\n",
      " [0.87629449 0.97234646 0.62684151 0.48075287 0.17009716 0.41047869\n",
      "  0.         0.69321951 0.09520071 1.04594018]\n",
      " [0.20903697 0.28346976 0.72105532 0.21309086 0.63705906 0.28276897\n",
      "  0.69321951 0.         0.76378801 0.35548157]\n",
      " [0.93771369 1.0382423  0.59978421 0.55078306 0.16622188 0.48319944\n",
      "  0.09520071 0.76378801 0.         1.11874933]\n",
      " [0.24265896 0.13488656 1.00814829 0.56803763 0.9916401  0.63612867\n",
      "  1.04594018 0.35548157 1.11874933 0.        ]]\n"
     ]
    }
   ],
   "source": [
    "#1\n",
    "Z = np.random.random((10,2))\n",
    "X,Y = np.atleast_2d(Z[:,0], Z[:,1])\n",
    "D = np.sqrt( (X-X.T)**2 + (Y-Y.T)**2)\n",
    "print(D)\n",
    "\n",
    "# Much faster with scipy\n",
    "import scipy\n",
    "# Thanks Gavin Heverly-Coulson (#issue 1)\n",
    "import scipy.spatial\n",
    "\n",
    "Z = np.random.random((10,2))\n",
    "D = scipy.spatial.distance.cdist(Z,Z)\n",
    "print(D)"
   ]
  },
  {
   "cell_type": "code",
   "execution_count": 82,
   "metadata": {},
   "outputs": [
    {
     "name": "stdout",
     "output_type": "stream",
     "text": [
      "[67 45 41 57 67 95 62 46 47 91]\n"
     ]
    }
   ],
   "source": [
    "#2\n",
    "Z = (np.random.rand(10)*100).astype(np.float32)\n",
    "Y = Z.view(np.int32)\n",
    "Y[:] = Z\n",
    "print(Y)"
   ]
  },
  {
   "cell_type": "code",
   "execution_count": 83,
   "metadata": {},
   "outputs": [
    {
     "name": "stdout",
     "output_type": "stream",
     "text": [
      "[[ 1  2  3  4  5]\n",
      " [ 6 -1 -1  7  8]\n",
      " [-1 -1  9 10 11]]\n"
     ]
    }
   ],
   "source": [
    "#3\n",
    "from io import StringIO\n",
    "\n",
    "# Fake file\n",
    "s = StringIO('''1, 2, 3, 4, 5\n",
    "\n",
    "                6,  ,  , 7, 8\n",
    "\n",
    "                 ,  , 9,10,11\n",
    "''')\n",
    "Z = np.genfromtxt(s, delimiter=\",\", dtype=np.int)\n",
    "print(Z)"
   ]
  },
  {
   "cell_type": "code",
   "execution_count": 84,
   "metadata": {},
   "outputs": [
    {
     "name": "stdout",
     "output_type": "stream",
     "text": [
      "(0, 0) 0\n",
      "(0, 1) 1\n",
      "(0, 2) 2\n",
      "(1, 0) 3\n",
      "(1, 1) 4\n",
      "(1, 2) 5\n",
      "(2, 0) 6\n",
      "(2, 1) 7\n",
      "(2, 2) 8\n",
      "(0, 0) 0\n",
      "(0, 1) 1\n",
      "(0, 2) 2\n",
      "(1, 0) 3\n",
      "(1, 1) 4\n",
      "(1, 2) 5\n",
      "(2, 0) 6\n",
      "(2, 1) 7\n",
      "(2, 2) 8\n"
     ]
    }
   ],
   "source": [
    "#4\n",
    "Z = np.arange(9).reshape(3,3)\n",
    "for index, value in np.ndenumerate(Z):\n",
    "    print(index, value)\n",
    "for index in np.ndindex(Z.shape):\n",
    "    print(index, Z[index])"
   ]
  },
  {
   "cell_type": "markdown",
   "metadata": {},
   "source": [
    "# Q 6\n",
    "1. Generate a generic 2D Gaussian-like array (★★☆)\n",
    "2. How to randomly place p elements in a 2D array? (★★☆)\n",
    "3. Subtract the mean of each row of a matrix (★★☆)\n",
    "4. How to sort an array by the nth column? (★★☆)"
   ]
  },
  {
   "cell_type": "code",
   "execution_count": 85,
   "metadata": {},
   "outputs": [
    {
     "name": "stdout",
     "output_type": "stream",
     "text": [
      "[[0.36787944 0.44822088 0.51979489 0.57375342 0.60279818 0.60279818\n",
      "  0.57375342 0.51979489 0.44822088 0.36787944]\n",
      " [0.44822088 0.54610814 0.63331324 0.69905581 0.73444367 0.73444367\n",
      "  0.69905581 0.63331324 0.54610814 0.44822088]\n",
      " [0.51979489 0.63331324 0.73444367 0.81068432 0.85172308 0.85172308\n",
      "  0.81068432 0.73444367 0.63331324 0.51979489]\n",
      " [0.57375342 0.69905581 0.81068432 0.89483932 0.9401382  0.9401382\n",
      "  0.89483932 0.81068432 0.69905581 0.57375342]\n",
      " [0.60279818 0.73444367 0.85172308 0.9401382  0.98773022 0.98773022\n",
      "  0.9401382  0.85172308 0.73444367 0.60279818]\n",
      " [0.60279818 0.73444367 0.85172308 0.9401382  0.98773022 0.98773022\n",
      "  0.9401382  0.85172308 0.73444367 0.60279818]\n",
      " [0.57375342 0.69905581 0.81068432 0.89483932 0.9401382  0.9401382\n",
      "  0.89483932 0.81068432 0.69905581 0.57375342]\n",
      " [0.51979489 0.63331324 0.73444367 0.81068432 0.85172308 0.85172308\n",
      "  0.81068432 0.73444367 0.63331324 0.51979489]\n",
      " [0.44822088 0.54610814 0.63331324 0.69905581 0.73444367 0.73444367\n",
      "  0.69905581 0.63331324 0.54610814 0.44822088]\n",
      " [0.36787944 0.44822088 0.51979489 0.57375342 0.60279818 0.60279818\n",
      "  0.57375342 0.51979489 0.44822088 0.36787944]]\n"
     ]
    }
   ],
   "source": [
    "#1\n",
    "X, Y = np.meshgrid(np.linspace(-1,1,10), np.linspace(-1,1,10))\n",
    "D = np.sqrt(X*X+Y*Y)\n",
    "sigma, mu = 1.0, 0.0\n",
    "G = np.exp(-( (D-mu)**2 / ( 2.0 * sigma**2 ) ) )\n",
    "print(G)"
   ]
  },
  {
   "cell_type": "code",
   "execution_count": 86,
   "metadata": {},
   "outputs": [
    {
     "name": "stdout",
     "output_type": "stream",
     "text": [
      "[[0. 0. 0. 0. 0. 0. 0. 0. 0. 0.]\n",
      " [0. 0. 0. 0. 0. 0. 0. 0. 0. 0.]\n",
      " [0. 1. 0. 0. 0. 0. 0. 0. 0. 0.]\n",
      " [0. 0. 0. 0. 0. 0. 0. 0. 0. 0.]\n",
      " [0. 0. 0. 0. 0. 0. 0. 1. 0. 0.]\n",
      " [0. 0. 0. 0. 0. 0. 0. 0. 0. 0.]\n",
      " [0. 0. 0. 0. 0. 0. 0. 0. 0. 0.]\n",
      " [0. 0. 0. 0. 0. 0. 0. 0. 0. 0.]\n",
      " [0. 0. 0. 0. 0. 0. 1. 0. 0. 0.]\n",
      " [0. 0. 0. 0. 0. 0. 0. 0. 0. 0.]]\n"
     ]
    }
   ],
   "source": [
    "#2\n",
    "n = 10\n",
    "p = 3\n",
    "Z = np.zeros((n,n))\n",
    "np.put(Z, np.random.choice(range(n*n), p, replace=False),1)\n",
    "print(Z)"
   ]
  },
  {
   "cell_type": "code",
   "execution_count": 87,
   "metadata": {},
   "outputs": [
    {
     "name": "stdout",
     "output_type": "stream",
     "text": [
      "[[-0.32150273  0.02861855  0.53331109  0.11306039  0.42420172 -0.0647609\n",
      "  -0.26678172 -0.11916356 -0.11227327 -0.21470957]\n",
      " [-0.06872136  0.21957601 -0.19036391  0.00641054  0.08981446 -0.09566456\n",
      "   0.23770255  0.31400389 -0.50516239 -0.00759522]\n",
      " [-0.32580609  0.08489205  0.13841371 -0.16971876  0.20167321  0.02889372\n",
      "   0.07778262  0.08326217 -0.31443231  0.19503969]\n",
      " [-0.30263291  0.49773401 -0.12020825 -0.16269239 -0.39629691  0.46826737\n",
      "   0.43896703 -0.27200033 -0.25348852  0.10235091]\n",
      " [-0.50078211  0.06088781 -0.12393263 -0.18320645 -0.00874168  0.39645342\n",
      "   0.37228392 -0.29590338  0.28025371  0.00268737]]\n"
     ]
    }
   ],
   "source": [
    "#3\n",
    "X = np.random.rand(5, 10)\n",
    "\n",
    "# Recent versions of numpy\n",
    "Y = X - X.mean(axis=1, keepdims=True)\n",
    "\n",
    "# Older versions of numpy\n",
    "Y = X - X.mean(axis=1).reshape(-1, 1)\n",
    "\n",
    "print(Y)"
   ]
  },
  {
   "cell_type": "code",
   "execution_count": 88,
   "metadata": {},
   "outputs": [
    {
     "name": "stdout",
     "output_type": "stream",
     "text": [
      "[[3 2 8]\n",
      " [4 9 9]\n",
      " [2 9 2]]\n",
      "[[3 2 8]\n",
      " [4 9 9]\n",
      " [2 9 2]]\n"
     ]
    }
   ],
   "source": [
    "#4\n",
    "Z = np.random.randint(0,10,(3,3))\n",
    "print(Z)\n",
    "print(Z[Z[:,1].argsort()])"
   ]
  },
  {
   "cell_type": "markdown",
   "metadata": {},
   "source": [
    "# Q 7\n",
    "\n",
    "1. How to tell if a given 2D array has null columns?\n",
    "2. Find the nearest value from a given value in an array\n",
    "3. Considering two arrays with shape (1,3) and (3,1), how to compute their sum using an iterator?\n",
    "4. Create an array class that has a name attribute"
   ]
  },
  {
   "cell_type": "code",
   "execution_count": 89,
   "metadata": {},
   "outputs": [
    {
     "name": "stdout",
     "output_type": "stream",
     "text": [
      "False\n"
     ]
    }
   ],
   "source": [
    "#1\n",
    "Z = np.random.randint(0,3,(3,10))\n",
    "print((~Z.any(axis=0)).any())"
   ]
  },
  {
   "cell_type": "code",
   "execution_count": 90,
   "metadata": {},
   "outputs": [
    {
     "name": "stdout",
     "output_type": "stream",
     "text": [
      "0.5137943664176939\n"
     ]
    }
   ],
   "source": [
    "#2\n",
    "Z = np.random.uniform(0,1,10)\n",
    "z = 0.5\n",
    "m = Z.flat[np.abs(Z - z).argmin()]\n",
    "print(m)"
   ]
  },
  {
   "cell_type": "code",
   "execution_count": 91,
   "metadata": {},
   "outputs": [
    {
     "name": "stdout",
     "output_type": "stream",
     "text": [
      "[[0 1 2]\n",
      " [1 2 3]\n",
      " [2 3 4]]\n"
     ]
    }
   ],
   "source": [
    "#3\n",
    "A = np.arange(3).reshape(3,1)\n",
    "B = np.arange(3).reshape(1,3)\n",
    "it = np.nditer([A,B,None])\n",
    "for x,y,z in it: z[...] = x + y\n",
    "print(it.operands[2])"
   ]
  },
  {
   "cell_type": "code",
   "execution_count": 92,
   "metadata": {},
   "outputs": [
    {
     "name": "stdout",
     "output_type": "stream",
     "text": [
      "range_10\n"
     ]
    }
   ],
   "source": [
    "#4\n",
    "class NamedArray(np.ndarray):\n",
    "    def __new__(cls, array, name=\"no name\"):\n",
    "        obj = np.asarray(array).view(cls)\n",
    "        obj.name = name\n",
    "        return obj\n",
    "    def __array_finalize__(self, obj):\n",
    "        if obj is None: return\n",
    "        self.info = getattr(obj, 'name', \"no name\")\n",
    "\n",
    "Z = NamedArray(np.arange(10), \"range_10\")\n",
    "print (Z.name)"
   ]
  },
  {
   "cell_type": "markdown",
   "metadata": {},
   "source": [
    "# Q 8 \n",
    "1. Consider a given vector, how to add 1 to each element indexed by a second vector (be careful with repeated indices)?\\\n",
    "2. How to accumulate elements of a vector (X) to an array (F) based on an index list (I)?"
   ]
  },
  {
   "cell_type": "code",
   "execution_count": 93,
   "metadata": {},
   "outputs": [
    {
     "name": "stdout",
     "output_type": "stream",
     "text": [
      "[1. 2. 2. 1. 7. 4. 2. 1. 3. 7.]\n",
      "[ 1.  3.  3.  1. 13.  7.  3.  1.  5. 13.]\n"
     ]
    }
   ],
   "source": [
    "#1\n",
    "Z = np.ones(10)\n",
    "I = np.random.randint(0,len(Z),20)\n",
    "Z += np.bincount(I, minlength=len(Z))\n",
    "print(Z)\n",
    "\n",
    "# Another solution\n",
    "np.add.at(Z, I, 1)\n",
    "print(Z)"
   ]
  },
  {
   "cell_type": "code",
   "execution_count": 94,
   "metadata": {},
   "outputs": [
    {
     "name": "stdout",
     "output_type": "stream",
     "text": [
      "[0. 7. 0. 6. 5. 0. 0. 0. 0. 3.]\n"
     ]
    }
   ],
   "source": [
    "#2\n",
    "X = [1,2,3,4,5,6]\n",
    "I = [1,3,9,3,4,1]\n",
    "F = np.bincount(I,X)\n",
    "print(F)"
   ]
  },
  {
   "cell_type": "markdown",
   "metadata": {},
   "source": [
    "# Q 9\n",
    "1. Considering a (w,h,3) image of (dtype=ubyte), compute the number of unique colors\n",
    "2. Considering a four dimensions array, how to get sum over the last two axis at once?"
   ]
  },
  {
   "cell_type": "code",
   "execution_count": 95,
   "metadata": {},
   "outputs": [
    {
     "name": "stdout",
     "output_type": "stream",
     "text": [
      "[0 1]\n"
     ]
    }
   ],
   "source": [
    "#1\n",
    "w,h = 16,16\n",
    "I = np.random.randint(0,2,(h,w,3)).astype(np.ubyte)\n",
    "F = I[...,0]*256*256 + I[...,1]*256 +I[...,2]\n",
    "n = len(np.unique(F))\n",
    "print(np.unique(I))"
   ]
  },
  {
   "cell_type": "code",
   "execution_count": 96,
   "metadata": {},
   "outputs": [
    {
     "name": "stdout",
     "output_type": "stream",
     "text": [
      "[[53 42 44 64]\n",
      " [56 63 80 41]\n",
      " [40 51 57 63]]\n",
      "[[53 42 44 64]\n",
      " [56 63 80 41]\n",
      " [40 51 57 63]]\n"
     ]
    }
   ],
   "source": [
    "#2\n",
    "A = np.random.randint(0,10,(3,4,3,4))\n",
    "# solution by passing a tuple of axes (introduced in numpy 1.7.0)\n",
    "sum = A.sum(axis=(-2,-1))\n",
    "print(sum)\n",
    "# solution by flattening the last two dimensions into one\n",
    "# (useful for functions that don't accept tuples for axis argument)\n",
    "sum = A.reshape(A.shape[:-2] + (-1,)).sum(axis=-1)\n",
    "print(sum)"
   ]
  },
  {
   "cell_type": "markdown",
   "metadata": {},
   "source": [
    "# Q 10\n",
    "1. Considering a one-dimensional vector D, how to compute means of subsets of D using a vector S of same size describing subset indices?\n",
    "2. How to get the diagonal of a dot product?"
   ]
  },
  {
   "cell_type": "code",
   "execution_count": 97,
   "metadata": {},
   "outputs": [
    {
     "name": "stdout",
     "output_type": "stream",
     "text": [
      "[0.38602771 0.61773769 0.46027617 0.49242899 0.57085649 0.48825736\n",
      " 0.39367211 0.62404527 0.47083729 0.50556568]\n",
      "0    0.386028\n",
      "1    0.617738\n",
      "2    0.460276\n",
      "3    0.492429\n",
      "4    0.570856\n",
      "5    0.488257\n",
      "6    0.393672\n",
      "7    0.624045\n",
      "8    0.470837\n",
      "9    0.505566\n",
      "dtype: float64\n"
     ]
    }
   ],
   "source": [
    "#1\n",
    "D = np.random.uniform(0,1,100)\n",
    "S = np.random.randint(0,10,100)\n",
    "D_sums = np.bincount(S, weights=D)\n",
    "D_counts = np.bincount(S)\n",
    "D_means = D_sums / D_counts\n",
    "print(D_means)\n",
    "\n",
    "# Pandas solution as a reference due to more intuitive code\n",
    "import pandas as pd\n",
    "print(pd.Series(D).groupby(S).mean())"
   ]
  },
  {
   "cell_type": "code",
   "execution_count": 98,
   "metadata": {},
   "outputs": [
    {
     "data": {
      "text/plain": [
       "array([1.43817492, 1.50130073, 1.61525242, 0.86815291, 1.41948983])"
      ]
     },
     "execution_count": 98,
     "metadata": {},
     "output_type": "execute_result"
    }
   ],
   "source": [
    "#2\n",
    "A = np.random.uniform(0,1,(5,5))\n",
    "B = np.random.uniform(0,1,(5,5))\n",
    "\n",
    "# Slow version  \n",
    "np.diag(np.dot(A, B))\n",
    "\n",
    "# Fast version\n",
    "np.sum(A * B.T, axis=1)\n",
    "\n",
    "# Faster version\n",
    "np.einsum(\"ij,ji->i\", A, B)"
   ]
  },
  {
   "cell_type": "markdown",
   "metadata": {},
   "source": [
    "# Q 11\n",
    "1. Consider the vector [1, 2, 3, 4, 5], how to build a new vector with 3 consecutive zeros interleaved between each value?\n",
    "2. Consider an array of dimension (5,5,3), how to mulitply it by an array with dimensions (5,5)?"
   ]
  },
  {
   "cell_type": "code",
   "execution_count": 99,
   "metadata": {},
   "outputs": [
    {
     "name": "stdout",
     "output_type": "stream",
     "text": [
      "[1. 0. 0. 0. 2. 0. 0. 0. 3. 0. 0. 0. 4. 0. 0. 0. 5.]\n"
     ]
    }
   ],
   "source": [
    "#1\n",
    "Z = np.array([1,2,3,4,5])\n",
    "nz = 3\n",
    "Z0 = np.zeros(len(Z) + (len(Z)-1)*(nz))\n",
    "Z0[::nz+1] = Z\n",
    "print(Z0)"
   ]
  },
  {
   "cell_type": "code",
   "execution_count": 100,
   "metadata": {},
   "outputs": [
    {
     "name": "stdout",
     "output_type": "stream",
     "text": [
      "[[[2. 2. 2.]\n",
      "  [2. 2. 2.]\n",
      "  [2. 2. 2.]\n",
      "  [2. 2. 2.]\n",
      "  [2. 2. 2.]]\n",
      "\n",
      " [[2. 2. 2.]\n",
      "  [2. 2. 2.]\n",
      "  [2. 2. 2.]\n",
      "  [2. 2. 2.]\n",
      "  [2. 2. 2.]]\n",
      "\n",
      " [[2. 2. 2.]\n",
      "  [2. 2. 2.]\n",
      "  [2. 2. 2.]\n",
      "  [2. 2. 2.]\n",
      "  [2. 2. 2.]]\n",
      "\n",
      " [[2. 2. 2.]\n",
      "  [2. 2. 2.]\n",
      "  [2. 2. 2.]\n",
      "  [2. 2. 2.]\n",
      "  [2. 2. 2.]]\n",
      "\n",
      " [[2. 2. 2.]\n",
      "  [2. 2. 2.]\n",
      "  [2. 2. 2.]\n",
      "  [2. 2. 2.]\n",
      "  [2. 2. 2.]]]\n"
     ]
    }
   ],
   "source": [
    "#2\n",
    "A = np.ones((5,5,3))\n",
    "B = 2*np.ones((5,5))\n",
    "print(A * B[:,:,None])"
   ]
  },
  {
   "cell_type": "markdown",
   "metadata": {},
   "source": [
    "# Q 12\n",
    "1. How to swap two rows of an array?\n",
    "2. Consider a set of 10 triplets describing 10 triangles (with shared vertices), find the set of unique line segments composing all the triangles"
   ]
  },
  {
   "cell_type": "code",
   "execution_count": 101,
   "metadata": {},
   "outputs": [
    {
     "name": "stdout",
     "output_type": "stream",
     "text": [
      "[[ 5  6  7  8  9]\n",
      " [ 0  1  2  3  4]\n",
      " [10 11 12 13 14]\n",
      " [15 16 17 18 19]\n",
      " [20 21 22 23 24]]\n"
     ]
    }
   ],
   "source": [
    "#1\n",
    "A = np.arange(25).reshape(5,5)\n",
    "A[[0,1]] = A[[1,0]]\n",
    "print(A)"
   ]
  },
  {
   "cell_type": "code",
   "execution_count": 102,
   "metadata": {},
   "outputs": [
    {
     "name": "stdout",
     "output_type": "stream",
     "text": [
      "[( 0, 54) ( 0, 62) ( 2, 42) ( 2, 79) ( 3, 40) ( 3, 54) ( 5, 79) ( 5, 90)\n",
      " ( 9, 48) ( 9, 54) (16, 26) (16, 97) (18, 54) (18, 85) (26, 97) (28, 36)\n",
      " (28, 60) (32, 49) (32, 57) (36, 60) (40, 54) (42, 79) (48, 54) (49, 57)\n",
      " (54, 62) (54, 85) (55, 72) (55, 93) (72, 93) (79, 90)]\n"
     ]
    }
   ],
   "source": [
    "#2\n",
    "faces = np.random.randint(0,100,(10,3))\n",
    "F = np.roll(faces.repeat(2,axis=1),-1,axis=1)\n",
    "F = F.reshape(len(F)*3,2)\n",
    "F = np.sort(F,axis=1)\n",
    "G = F.view( dtype=[('p0',F.dtype),('p1',F.dtype)] )\n",
    "G = np.unique(G)\n",
    "print(G)"
   ]
  },
  {
   "cell_type": "markdown",
   "metadata": {},
   "source": [
    "# Q 13\n",
    "1. Given an array C that is a bincount, how to produce an array A such that np.bincount(A) == C?\n",
    "2. How to compute averages using a sliding window over an array?"
   ]
  },
  {
   "cell_type": "code",
   "execution_count": 103,
   "metadata": {},
   "outputs": [
    {
     "name": "stdout",
     "output_type": "stream",
     "text": [
      "[1 1 2 3 4 4 6]\n"
     ]
    }
   ],
   "source": [
    "#1\n",
    "C = np.bincount([1,1,2,3,4,4,6])\n",
    "A = np.repeat(np.arange(len(C)), C)\n",
    "print(A)"
   ]
  },
  {
   "cell_type": "code",
   "execution_count": 104,
   "metadata": {},
   "outputs": [
    {
     "name": "stdout",
     "output_type": "stream",
     "text": [
      "[ 1.  2.  3.  4.  5.  6.  7.  8.  9. 10. 11. 12. 13. 14. 15. 16. 17. 18.]\n"
     ]
    }
   ],
   "source": [
    "#2\n",
    "def moving_average(a, n=3) :\n",
    "    ret = np.cumsum(a, dtype=float)\n",
    "    ret[n:] = ret[n:] - ret[:-n]\n",
    "    return ret[n - 1:] / n\n",
    "Z = np.arange(20)\n",
    "print(moving_average(Z, n=3))"
   ]
  },
  {
   "cell_type": "markdown",
   "metadata": {},
   "source": []
  },
  {
   "cell_type": "markdown",
   "metadata": {},
   "source": [
    "# Q 14\n",
    "1. Consider a one-dimensional array Z, build a two-dimensional array whose first row is (Z[0],Z[1],Z[2]) and each subsequent row is shifted by 1 (last row should be (Z[-3],Z[-2],Z[-1])\n",
    "2. How to negate a boolean, or to change the sign of a float inplace?"
   ]
  },
  {
   "cell_type": "code",
   "execution_count": 105,
   "metadata": {},
   "outputs": [
    {
     "name": "stdout",
     "output_type": "stream",
     "text": [
      "[[0 1 2]\n",
      " [1 2 3]\n",
      " [2 3 4]\n",
      " [3 4 5]\n",
      " [4 5 6]\n",
      " [5 6 7]\n",
      " [6 7 8]\n",
      " [7 8 9]]\n"
     ]
    }
   ],
   "source": [
    "#1\n",
    "from numpy.lib import stride_tricks\n",
    "\n",
    "def rolling(a, window):\n",
    "    shape = (a.size - window + 1, window)\n",
    "    strides = (a.itemsize, a.itemsize)\n",
    "    return stride_tricks.as_strided(a, shape=shape, strides=strides)\n",
    "Z = rolling(np.arange(10), 3)\n",
    "print(Z)"
   ]
  },
  {
   "cell_type": "code",
   "execution_count": 106,
   "metadata": {},
   "outputs": [
    {
     "data": {
      "text/plain": [
       "array([-0.53757771,  0.21888285, -0.42879395, -0.27440061,  0.41873903,\n",
       "       -0.9457566 , -0.16117223,  0.13060038,  0.15911824,  0.14411907,\n",
       "        0.83942963, -0.62304794, -0.57397975,  0.66678983,  0.66243769,\n",
       "        0.29995291,  0.65340762, -0.07462349,  0.99241346,  0.89028769,\n",
       "        0.28732219, -0.87041831,  0.13908423, -0.24797211,  0.59492445,\n",
       "        0.1974617 ,  0.2966803 ,  0.02707514,  0.02245023, -0.5751276 ,\n",
       "       -0.55088692,  0.49385303,  0.89113495, -0.41166066, -0.44602875,\n",
       "        0.32798316, -0.05453587, -0.40835174, -0.67072596,  0.71149943,\n",
       "       -0.39420819,  0.03358755, -0.21200804,  0.35637372,  0.22786283,\n",
       "       -0.65398154,  0.07221833, -0.00257946, -0.16440495,  0.81478916,\n",
       "        0.03719608, -0.01127811, -0.15584752,  0.35769893, -0.97167265,\n",
       "       -0.43792232,  0.89027633, -0.45841508, -0.74545098, -0.03843706,\n",
       "        0.60293969, -0.17768595, -0.04381598,  0.65579857, -0.79189273,\n",
       "        0.64605381,  0.9816245 ,  0.31479611, -0.49267158,  0.465427  ,\n",
       "        0.66830233,  0.03566476, -0.74197342, -0.88752135,  0.0825594 ,\n",
       "       -0.79361932,  0.54360058,  0.12817019, -0.67479073,  0.27010976,\n",
       "       -0.14459211, -0.40180643, -0.48069534, -0.96288026,  0.60210428,\n",
       "        0.1755203 , -0.18108953,  0.49759487, -0.2748372 , -0.42739777,\n",
       "        0.13302189, -0.62147293,  0.4299165 ,  0.69724584, -0.57509589,\n",
       "       -0.43205795, -0.76778938, -0.23028879, -0.7895457 , -0.531841  ])"
      ]
     },
     "execution_count": 106,
     "metadata": {},
     "output_type": "execute_result"
    }
   ],
   "source": [
    "#2\n",
    "Z = np.random.randint(0,2,100)\n",
    "np.logical_not(Z, out=Z)\n",
    "\n",
    "Z = np.random.uniform(-1.0,1.0,100)\n",
    "np.negative(Z, out=Z)"
   ]
  },
  {
   "cell_type": "markdown",
   "metadata": {},
   "source": [
    "# Q 15\n",
    "1. Consider 2 sets of points P0,P1 describing lines (2d) and a point p, how to compute distance from p to each line i (P0[i],P1[i])?\n",
    "2. Consider 2 sets of points P0,P1 describing lines (2d) and a set of points P, how to compute distance from each point j (P[j]) to each line i (P0[i],P1[i])?"
   ]
  },
  {
   "cell_type": "code",
   "execution_count": 107,
   "metadata": {},
   "outputs": [
    {
     "name": "stdout",
     "output_type": "stream",
     "text": [
      "[0.31230472 9.59255201 3.32118795 7.84258202 9.49798014 6.96968036\n",
      " 1.61731249 2.88070243 3.60477812 4.24652151]\n"
     ]
    }
   ],
   "source": [
    "#1\n",
    "def distance(P0, P1, p):\n",
    "    T = P1 - P0\n",
    "    L = (T**2).sum(axis=1)\n",
    "    U = -((P0[:,0]-p[...,0])*T[:,0] + (P0[:,1]-p[...,1])*T[:,1]) / L\n",
    "    U = U.reshape(len(U),1)\n",
    "    D = P0 + U*T - p\n",
    "    return np.sqrt((D**2).sum(axis=1))\n",
    "\n",
    "P0 = np.random.uniform(-10,10,(10,2))\n",
    "P1 = np.random.uniform(-10,10,(10,2))\n",
    "p  = np.random.uniform(-10,10,( 1,2))\n",
    "print(distance(P0, P1, p))"
   ]
  },
  {
   "cell_type": "code",
   "execution_count": 108,
   "metadata": {},
   "outputs": [
    {
     "name": "stdout",
     "output_type": "stream",
     "text": [
      "[[9.50134492e+00 6.51756736e+00 5.87333948e+00 1.00834684e+01\n",
      "  1.53390324e-01 7.56054830e+00 1.40267333e+01 5.54494303e+00\n",
      "  5.16952667e+00 7.59243828e+00]\n",
      " [1.58723219e+00 2.57664557e+00 2.70492512e+00 2.25410200e+00\n",
      "  5.79346367e+00 4.82216903e+00 6.71280551e+00 5.29392019e-01\n",
      "  8.51275422e+00 8.46594198e-01]\n",
      " [1.29550115e+01 1.10203110e+01 1.01806302e+01 1.31499923e+01\n",
      "  4.91433911e+00 5.85611203e+00 1.61307756e+01 1.03047128e+01\n",
      "  8.14393611e-01 1.22867105e+01]\n",
      " [1.38387816e+01 1.09304134e+01 9.97748824e+00 1.40909827e+01\n",
      "  5.16597719e+00 6.71407339e+00 1.71546643e+01 1.05814057e+01\n",
      "  9.92597133e-01 1.27066706e+01]\n",
      " [1.19922669e+01 1.35177423e+01 1.29235703e+01 1.18230014e+01\n",
      "  6.50758159e+00 2.42153803e+00 1.40775543e+01 1.18216784e+01\n",
      "  1.87685390e+00 1.33384683e+01]\n",
      " [1.44604079e+00 4.85591357e+00 4.73301280e+00 1.55141904e-03\n",
      "  1.26815087e+01 9.94262822e+00 6.22420397e+00 7.34540389e+00\n",
      "  1.59571627e+01 5.46381888e+00]\n",
      " [5.22889696e-01 5.53033679e+00 5.93984324e+00 7.62827337e-01\n",
      "  3.88211619e+00 8.24372117e-01 4.36758989e+00 1.29369520e+00\n",
      "  5.33695351e+00 2.13055319e+00]\n",
      " [9.60908782e+00 1.02312690e+01 9.76283650e+00 9.72953830e+00\n",
      "  3.08271768e+00 3.78456753e+00 1.26957866e+01 8.40129001e+00\n",
      "  1.31505968e+00 9.98638710e+00]\n",
      " [3.21769489e+00 4.38963634e+00 4.81645184e+00 4.84578208e+00\n",
      "  1.06215282e+01 1.34901165e+01 1.12596984e+01 5.17240977e+00\n",
      "  1.59186141e+01 2.65598163e+00]\n",
      " [4.08714220e+00 3.78601816e+00 4.28901392e+00 5.68444524e+00\n",
      "  9.83538613e+00 1.36131446e+01 1.19965045e+01 4.37574656e+00\n",
      "  1.53737156e+01 1.80753397e+00]]\n"
     ]
    }
   ],
   "source": [
    "#2\n",
    "# based on distance function from previous question\n",
    "P0 = np.random.uniform(-10, 10, (10,2))\n",
    "P1 = np.random.uniform(-10,10,(10,2))\n",
    "p = np.random.uniform(-10, 10, (10,2))\n",
    "print(np.array([distance(P0,P1,p_i) for p_i in p]))"
   ]
  },
  {
   "cell_type": "markdown",
   "metadata": {},
   "source": [
    "# Q 16\n",
    "1. Consider an arbitrary array, write a function that extract a subpart with a fixed shape and centered on a given element (pad with a fill value when necessary)\n",
    "2. Consider an array Z = [1,2,3,4,5,6,7,8,9,10,11,12,13,14], how to generate an array R = [[1,2,3,4], [2,3,4,5], [3,4,5,6], ..., [11,12,13,14]]?\n"
   ]
  },
  {
   "cell_type": "code",
   "execution_count": 109,
   "metadata": {},
   "outputs": [
    {
     "name": "stdout",
     "output_type": "stream",
     "text": [
      "[[3 4 3 9 2 3 3 8 0 3]\n",
      " [7 6 0 7 0 8 9 4 7 2]\n",
      " [0 4 9 1 6 0 2 5 2 8]\n",
      " [9 4 9 3 0 9 4 7 3 4]\n",
      " [2 0 6 4 5 7 9 0 9 3]\n",
      " [0 8 8 8 1 3 9 1 0 9]\n",
      " [7 5 5 0 6 1 6 8 9 1]\n",
      " [8 1 2 9 1 7 2 0 3 7]\n",
      " [5 4 5 3 8 1 1 7 3 7]\n",
      " [5 4 0 7 9 9 7 0 0 4]]\n",
      "[[0 0 0 0 0]\n",
      " [0 3 4 3 9]\n",
      " [0 7 6 0 7]\n",
      " [0 0 4 9 1]\n",
      " [0 9 4 9 3]]\n"
     ]
    },
    {
     "name": "stderr",
     "output_type": "stream",
     "text": [
      "C:\\Users\\Anudeep\\Anaconda3\\lib\\site-packages\\ipykernel_launcher.py:23: FutureWarning: Using a non-tuple sequence for multidimensional indexing is deprecated; use `arr[tuple(seq)]` instead of `arr[seq]`. In the future this will be interpreted as an array index, `arr[np.array(seq)]`, which will result either in an error or a different result.\n"
     ]
    }
   ],
   "source": [
    "#1\n",
    "Z = np.random.randint(0,10,(10,10))\n",
    "shape = (5,5)\n",
    "fill  = 0\n",
    "position = (1,1)\n",
    "\n",
    "R = np.ones(shape, dtype=Z.dtype)*fill\n",
    "P  = np.array(list(position)).astype(int)\n",
    "Rs = np.array(list(R.shape)).astype(int)\n",
    "Zs = np.array(list(Z.shape)).astype(int)\n",
    "\n",
    "R_start = np.zeros((len(shape),)).astype(int)\n",
    "R_stop  = np.array(list(shape)).astype(int)\n",
    "Z_start = (P-Rs//2)\n",
    "Z_stop  = (P+Rs//2)+Rs%2\n",
    "\n",
    "R_start = (R_start - np.minimum(Z_start,0)).tolist()\n",
    "Z_start = (np.maximum(Z_start,0)).tolist()\n",
    "R_stop = np.maximum(R_start, (R_stop - np.maximum(Z_stop-Zs,0))).tolist()\n",
    "Z_stop = (np.minimum(Z_stop,Zs)).tolist()\n",
    "\n",
    "r = [slice(start,stop) for start,stop in zip(R_start,R_stop)]\n",
    "z = [slice(start,stop) for start,stop in zip(Z_start,Z_stop)]\n",
    "R[r] = Z[z]\n",
    "print(Z)\n",
    "print(R)"
   ]
  },
  {
   "cell_type": "code",
   "execution_count": 110,
   "metadata": {},
   "outputs": [
    {
     "name": "stdout",
     "output_type": "stream",
     "text": [
      "[[ 1  2  3  4]\n",
      " [ 2  3  4  5]\n",
      " [ 3  4  5  6]\n",
      " [ 4  5  6  7]\n",
      " [ 5  6  7  8]\n",
      " [ 6  7  8  9]\n",
      " [ 7  8  9 10]\n",
      " [ 8  9 10 11]\n",
      " [ 9 10 11 12]\n",
      " [10 11 12 13]\n",
      " [11 12 13 14]]\n"
     ]
    }
   ],
   "source": [
    "#2\n",
    "Z = np.arange(1,15,dtype=np.uint32)\n",
    "R = stride_tricks.as_strided(Z,(11,4),(4,4))\n",
    "print(R)"
   ]
  },
  {
   "cell_type": "markdown",
   "metadata": {},
   "source": [
    "# Q 17\n",
    "1. Compute a matrix rank (★★★)\n",
    "2. How to find the most frequent value in an array?"
   ]
  },
  {
   "cell_type": "code",
   "execution_count": 111,
   "metadata": {},
   "outputs": [
    {
     "name": "stdout",
     "output_type": "stream",
     "text": [
      "10\n"
     ]
    }
   ],
   "source": [
    "#1\n",
    "Z = np.random.uniform(0,1,(10,10))\n",
    "U, S, V = np.linalg.svd(Z) # Singular Value Decomposition\n",
    "rank = np.sum(S > 1e-10)\n",
    "print(rank)"
   ]
  },
  {
   "cell_type": "code",
   "execution_count": 112,
   "metadata": {},
   "outputs": [
    {
     "name": "stdout",
     "output_type": "stream",
     "text": [
      "6\n"
     ]
    }
   ],
   "source": [
    "#2\n",
    "Z = np.random.randint(0,10,50)\n",
    "print(np.bincount(Z).argmax())"
   ]
  },
  {
   "cell_type": "markdown",
   "metadata": {},
   "source": [
    "# Q 18\n",
    "1. Extract all the contiguous 3x3 blocks from a random 10x10 matrix\n",
    "2. Create a 2D array subclass such that Z[i,j] == Z[j,i]"
   ]
  },
  {
   "cell_type": "code",
   "execution_count": 113,
   "metadata": {},
   "outputs": [
    {
     "name": "stdout",
     "output_type": "stream",
     "text": [
      "[[[[2 1 4]\n",
      "   [1 4 3]\n",
      "   [3 2 3]]\n",
      "\n",
      "  [[1 4 4]\n",
      "   [4 3 2]\n",
      "   [2 3 0]]\n",
      "\n",
      "  [[4 4 3]\n",
      "   [3 2 4]\n",
      "   [3 0 2]]\n",
      "\n",
      "  [[4 3 3]\n",
      "   [2 4 1]\n",
      "   [0 2 1]]\n",
      "\n",
      "  [[3 3 4]\n",
      "   [4 1 2]\n",
      "   [2 1 4]]\n",
      "\n",
      "  [[3 4 3]\n",
      "   [1 2 4]\n",
      "   [1 4 1]]\n",
      "\n",
      "  [[4 3 1]\n",
      "   [2 4 0]\n",
      "   [4 1 1]]\n",
      "\n",
      "  [[3 1 2]\n",
      "   [4 0 1]\n",
      "   [1 1 3]]]\n",
      "\n",
      "\n",
      " [[[1 4 3]\n",
      "   [3 2 3]\n",
      "   [0 3 3]]\n",
      "\n",
      "  [[4 3 2]\n",
      "   [2 3 0]\n",
      "   [3 3 2]]\n",
      "\n",
      "  [[3 2 4]\n",
      "   [3 0 2]\n",
      "   [3 2 4]]\n",
      "\n",
      "  [[2 4 1]\n",
      "   [0 2 1]\n",
      "   [2 4 3]]\n",
      "\n",
      "  [[4 1 2]\n",
      "   [2 1 4]\n",
      "   [4 3 1]]\n",
      "\n",
      "  [[1 2 4]\n",
      "   [1 4 1]\n",
      "   [3 1 4]]\n",
      "\n",
      "  [[2 4 0]\n",
      "   [4 1 1]\n",
      "   [1 4 0]]\n",
      "\n",
      "  [[4 0 1]\n",
      "   [1 1 3]\n",
      "   [4 0 2]]]\n",
      "\n",
      "\n",
      " [[[3 2 3]\n",
      "   [0 3 3]\n",
      "   [1 2 1]]\n",
      "\n",
      "  [[2 3 0]\n",
      "   [3 3 2]\n",
      "   [2 1 1]]\n",
      "\n",
      "  [[3 0 2]\n",
      "   [3 2 4]\n",
      "   [1 1 1]]\n",
      "\n",
      "  [[0 2 1]\n",
      "   [2 4 3]\n",
      "   [1 1 4]]\n",
      "\n",
      "  [[2 1 4]\n",
      "   [4 3 1]\n",
      "   [1 4 1]]\n",
      "\n",
      "  [[1 4 1]\n",
      "   [3 1 4]\n",
      "   [4 1 3]]\n",
      "\n",
      "  [[4 1 1]\n",
      "   [1 4 0]\n",
      "   [1 3 3]]\n",
      "\n",
      "  [[1 1 3]\n",
      "   [4 0 2]\n",
      "   [3 3 0]]]\n",
      "\n",
      "\n",
      " [[[0 3 3]\n",
      "   [1 2 1]\n",
      "   [2 3 0]]\n",
      "\n",
      "  [[3 3 2]\n",
      "   [2 1 1]\n",
      "   [3 0 3]]\n",
      "\n",
      "  [[3 2 4]\n",
      "   [1 1 1]\n",
      "   [0 3 4]]\n",
      "\n",
      "  [[2 4 3]\n",
      "   [1 1 4]\n",
      "   [3 4 1]]\n",
      "\n",
      "  [[4 3 1]\n",
      "   [1 4 1]\n",
      "   [4 1 4]]\n",
      "\n",
      "  [[3 1 4]\n",
      "   [4 1 3]\n",
      "   [1 4 2]]\n",
      "\n",
      "  [[1 4 0]\n",
      "   [1 3 3]\n",
      "   [4 2 2]]\n",
      "\n",
      "  [[4 0 2]\n",
      "   [3 3 0]\n",
      "   [2 2 0]]]\n",
      "\n",
      "\n",
      " [[[1 2 1]\n",
      "   [2 3 0]\n",
      "   [4 0 2]]\n",
      "\n",
      "  [[2 1 1]\n",
      "   [3 0 3]\n",
      "   [0 2 2]]\n",
      "\n",
      "  [[1 1 1]\n",
      "   [0 3 4]\n",
      "   [2 2 2]]\n",
      "\n",
      "  [[1 1 4]\n",
      "   [3 4 1]\n",
      "   [2 2 4]]\n",
      "\n",
      "  [[1 4 1]\n",
      "   [4 1 4]\n",
      "   [2 4 2]]\n",
      "\n",
      "  [[4 1 3]\n",
      "   [1 4 2]\n",
      "   [4 2 3]]\n",
      "\n",
      "  [[1 3 3]\n",
      "   [4 2 2]\n",
      "   [2 3 3]]\n",
      "\n",
      "  [[3 3 0]\n",
      "   [2 2 0]\n",
      "   [3 3 2]]]\n",
      "\n",
      "\n",
      " [[[2 3 0]\n",
      "   [4 0 2]\n",
      "   [0 1 4]]\n",
      "\n",
      "  [[3 0 3]\n",
      "   [0 2 2]\n",
      "   [1 4 0]]\n",
      "\n",
      "  [[0 3 4]\n",
      "   [2 2 2]\n",
      "   [4 0 3]]\n",
      "\n",
      "  [[3 4 1]\n",
      "   [2 2 4]\n",
      "   [0 3 0]]\n",
      "\n",
      "  [[4 1 4]\n",
      "   [2 4 2]\n",
      "   [3 0 3]]\n",
      "\n",
      "  [[1 4 2]\n",
      "   [4 2 3]\n",
      "   [0 3 3]]\n",
      "\n",
      "  [[4 2 2]\n",
      "   [2 3 3]\n",
      "   [3 3 2]]\n",
      "\n",
      "  [[2 2 0]\n",
      "   [3 3 2]\n",
      "   [3 2 2]]]\n",
      "\n",
      "\n",
      " [[[4 0 2]\n",
      "   [0 1 4]\n",
      "   [0 2 0]]\n",
      "\n",
      "  [[0 2 2]\n",
      "   [1 4 0]\n",
      "   [2 0 2]]\n",
      "\n",
      "  [[2 2 2]\n",
      "   [4 0 3]\n",
      "   [0 2 0]]\n",
      "\n",
      "  [[2 2 4]\n",
      "   [0 3 0]\n",
      "   [2 0 2]]\n",
      "\n",
      "  [[2 4 2]\n",
      "   [3 0 3]\n",
      "   [0 2 3]]\n",
      "\n",
      "  [[4 2 3]\n",
      "   [0 3 3]\n",
      "   [2 3 1]]\n",
      "\n",
      "  [[2 3 3]\n",
      "   [3 3 2]\n",
      "   [3 1 1]]\n",
      "\n",
      "  [[3 3 2]\n",
      "   [3 2 2]\n",
      "   [1 1 1]]]\n",
      "\n",
      "\n",
      " [[[0 1 4]\n",
      "   [0 2 0]\n",
      "   [4 1 2]]\n",
      "\n",
      "  [[1 4 0]\n",
      "   [2 0 2]\n",
      "   [1 2 1]]\n",
      "\n",
      "  [[4 0 3]\n",
      "   [0 2 0]\n",
      "   [2 1 2]]\n",
      "\n",
      "  [[0 3 0]\n",
      "   [2 0 2]\n",
      "   [1 2 2]]\n",
      "\n",
      "  [[3 0 3]\n",
      "   [0 2 3]\n",
      "   [2 2 2]]\n",
      "\n",
      "  [[0 3 3]\n",
      "   [2 3 1]\n",
      "   [2 2 1]]\n",
      "\n",
      "  [[3 3 2]\n",
      "   [3 1 1]\n",
      "   [2 1 1]]\n",
      "\n",
      "  [[3 2 2]\n",
      "   [1 1 1]\n",
      "   [1 1 2]]]]\n"
     ]
    }
   ],
   "source": [
    "#1\n",
    "Z = np.random.randint(0,5,(10,10))\n",
    "n = 3\n",
    "i = 1 + (Z.shape[0]-3)\n",
    "j = 1 + (Z.shape[1]-3)\n",
    "C = stride_tricks.as_strided(Z, shape=(i, j, n, n), strides=Z.strides + Z.strides)\n",
    "print(C)"
   ]
  },
  {
   "cell_type": "code",
   "execution_count": 114,
   "metadata": {},
   "outputs": [
    {
     "name": "stdout",
     "output_type": "stream",
     "text": [
      "[[ 7 14  1 11  4]\n",
      " [14  9  8  6 13]\n",
      " [ 1  8  0 42  8]\n",
      " [11  6 42  2 13]\n",
      " [ 4 13  8 13  0]]\n"
     ]
    }
   ],
   "source": [
    "#2\n",
    "class Symetric(np.ndarray):\n",
    "    def __setitem__(self, index, value):\n",
    "        i,j = index\n",
    "        super(Symetric, self).__setitem__((i,j), value)\n",
    "        super(Symetric, self).__setitem__((j,i), value)\n",
    "\n",
    "def symetric(Z):\n",
    "    return np.asarray(Z + Z.T - np.diag(Z.diagonal())).view(Symetric)\n",
    "\n",
    "S = symetric(np.random.randint(0,10,(5,5)))\n",
    "S[2,3] = 42\n",
    "print(S)"
   ]
  },
  {
   "cell_type": "markdown",
   "metadata": {},
   "source": [
    "# Q 19\n",
    "1. Consider a set of p matrices wich shape (n,n) and a set of p vectors with shape (n,1). How to compute the sum of of the p matrix products at once? (result has shape (n,1))\n",
    "2. Consider a 16x16 array, how to get the block-sum (block size is 4x4)?"
   ]
  },
  {
   "cell_type": "code",
   "execution_count": 115,
   "metadata": {},
   "outputs": [
    {
     "name": "stdout",
     "output_type": "stream",
     "text": [
      "[[200.]\n",
      " [200.]\n",
      " [200.]\n",
      " [200.]\n",
      " [200.]\n",
      " [200.]\n",
      " [200.]\n",
      " [200.]\n",
      " [200.]\n",
      " [200.]\n",
      " [200.]\n",
      " [200.]\n",
      " [200.]\n",
      " [200.]\n",
      " [200.]\n",
      " [200.]\n",
      " [200.]\n",
      " [200.]\n",
      " [200.]\n",
      " [200.]]\n"
     ]
    }
   ],
   "source": [
    "#1\n",
    "p, n = 10, 20\n",
    "M = np.ones((p,n,n))\n",
    "V = np.ones((p,n,1))\n",
    "S = np.tensordot(M, V, axes=[[0, 2], [0, 1]])\n",
    "print(S)\n",
    "\n",
    "# It works, because:\n",
    "# M is (p,n,n)\n",
    "# V is (p,n,1)\n",
    "# Thus, summing over the paired axes 0 and 0 (of M and V independently),\n",
    "# and 2 and 1, to remain with a (n,1) vector."
   ]
  },
  {
   "cell_type": "code",
   "execution_count": 116,
   "metadata": {},
   "outputs": [
    {
     "name": "stdout",
     "output_type": "stream",
     "text": [
      "[[16. 16. 16. 16.]\n",
      " [16. 16. 16. 16.]\n",
      " [16. 16. 16. 16.]\n",
      " [16. 16. 16. 16.]]\n"
     ]
    }
   ],
   "source": [
    "#2\n",
    "Z = np.ones((16,16))\n",
    "k = 4\n",
    "S = np.add.reduceat(np.add.reduceat(Z, np.arange(0, Z.shape[0], k), axis=0),\n",
    "                                       np.arange(0, Z.shape[1], k), axis=1)\n",
    "print(S)"
   ]
  },
  {
   "cell_type": "markdown",
   "metadata": {},
   "source": [
    "# Q 20\n",
    "1. How to implement the Game of Life using numpy arrays?\n",
    "2. How to get the n largest values of an array"
   ]
  },
  {
   "cell_type": "code",
   "execution_count": 117,
   "metadata": {},
   "outputs": [
    {
     "name": "stdout",
     "output_type": "stream",
     "text": [
      "[[0 0 0 ... 0 0 0]\n",
      " [0 0 0 ... 0 0 0]\n",
      " [0 0 0 ... 0 0 0]\n",
      " ...\n",
      " [0 0 0 ... 0 0 0]\n",
      " [0 0 0 ... 0 0 0]\n",
      " [0 0 0 ... 0 0 0]]\n"
     ]
    }
   ],
   "source": [
    "#1\n",
    "def iterate(Z):\n",
    "    # Count neighbours\n",
    "    N = (Z[0:-2,0:-2] + Z[0:-2,1:-1] + Z[0:-2,2:] +\n",
    "         Z[1:-1,0:-2]                + Z[1:-1,2:] +\n",
    "         Z[2:  ,0:-2] + Z[2:  ,1:-1] + Z[2:  ,2:])\n",
    "\n",
    "    # Apply rules\n",
    "    birth = (N==3) & (Z[1:-1,1:-1]==0)\n",
    "    survive = ((N==2) | (N==3)) & (Z[1:-1,1:-1]==1)\n",
    "    Z[...] = 0\n",
    "    Z[1:-1,1:-1][birth | survive] = 1\n",
    "    return Z\n",
    "\n",
    "Z = np.random.randint(0,2,(50,50))\n",
    "for i in range(100): Z = iterate(Z)\n",
    "print(Z)"
   ]
  },
  {
   "cell_type": "code",
   "execution_count": 118,
   "metadata": {},
   "outputs": [
    {
     "name": "stdout",
     "output_type": "stream",
     "text": [
      "[9995 9996 9997 9998 9999]\n",
      "[9998 9999 9997 9996 9995]\n"
     ]
    }
   ],
   "source": [
    "#2\n",
    "Z = np.arange(10000)\n",
    "np.random.shuffle(Z)\n",
    "n = 5\n",
    "\n",
    "# Slow\n",
    "print (Z[np.argsort(Z)[-n:]])\n",
    "\n",
    "# Fast\n",
    "print (Z[np.argpartition(-Z,n)[:n]])"
   ]
  },
  {
   "cell_type": "markdown",
   "metadata": {},
   "source": [
    "# SECTION C\n",
    "\n",
    "This section is scenario based. Each question carries 15 marks"
   ]
  },
  {
   "cell_type": "markdown",
   "metadata": {},
   "source": [
    "# Q 1\n",
    "Using python, develop a phone directory\n",
    "\n",
    "Hint:\n",
    "\n",
    "###### def print_menu():\n",
    "######    print('1. Print Phone Numbers')\n",
    "######    print('2. Add a Phone Number')\n",
    "######    print('3. Remove a Phone Number')\n",
    "######    print('4. Lookup a Phone Number')\n",
    "######    print('5. Quit')"
   ]
  },
  {
   "cell_type": "code",
   "execution_count": null,
   "metadata": {},
   "outputs": [],
   "source": [
    "def print_menu():\n",
    "    print('1. Print Phone Numbers')\n",
    "    print('2. Add a Phone Number')\n",
    "    print('3. Remove a Phone Number')\n",
    "    print('4. Lookup a Phone Number')\n",
    "    print('5. Quit')\n",
    "    print()\n",
    "\n",
    "numbers = {}\n",
    "menu_choice = 0\n",
    "print_menu()\n",
    "while menu_choice != 5:\n",
    "    menu_choice = int(input(\"Type in a number (1-5): \"))\n",
    "    if menu_choice == 1:\n",
    "        print(\"Telephone Numbers:\")\n",
    "        for x in numbers.keys():\n",
    "            print(\"Name: \", x, \"\\tNumber:\", numbers[x])\n",
    "        print()\n",
    "    elif menu_choice == 2:\n",
    "        print(\"Add Name and Number\")\n",
    "        name = input(\"Name: \")\n",
    "        phone = input(\"Number: \")\n",
    "        numbers[name] = phone\n",
    "    elif menu_choice == 3:\n",
    "        print(\"Remove Name and Number\")\n",
    "        name = input(\"Name: \")\n",
    "        if name in numbers:\n",
    "            del numbers[name]\n",
    "        else:\n",
    "            print(name, \"was not found\")\n",
    "    elif menu_choice == 4:\n",
    "        print(\"Lookup Number\")\n",
    "        name = input(\"Name: \")\n",
    "        if name in numbers:\n",
    "            print(\"The number is\", numbers[name])\n",
    "        else:\n",
    "            print(name, \"was not found\")\n",
    "    elif menu_choice != 5:\n",
    "        print_menu()"
   ]
  },
  {
   "cell_type": "markdown",
   "metadata": {},
   "source": [
    "# Q 2\n",
    "Using python, develop a database of students with their grades\n",
    "\n",
    "###### def print_menu():\n",
    "######    print(\"1. Add student\")\n",
    "######    print(\"2. Remove student\")\n",
    "######    print(\"3. Print grades\")\n",
    "######    print(\"4. Record grade\")\n",
    "######    print(\"5. Print Menu\")\n",
    "######    print(\"6. Exit\")"
   ]
  },
  {
   "cell_type": "code",
   "execution_count": null,
   "metadata": {},
   "outputs": [],
   "source": [
    "max_points = [25, 25, 50, 25, 100]\n",
    "assignments = ['hw ch 1', 'hw ch 2', 'quiz   ', 'hw ch 3', 'test']\n",
    "students = {'#Max': max_points}\n",
    "\n",
    "def print_menu():\n",
    "    print(\"1. Add student\")\n",
    "    print(\"2. Remove student\")\n",
    "    print(\"3. Print grades\")\n",
    "    print(\"4. Record grade\")\n",
    "    print(\"5. Print Menu\")\n",
    "    print(\"6. Exit\")\n",
    "\n",
    "def print_all_grades():\n",
    "    print('\\t', end=' ')\n",
    "    for i in range(len(assignments)):\n",
    "        print(assignments[i], '\\t', end=' ')\n",
    "    print()\n",
    "    keys = list(students.keys())\n",
    "    keys.sort()\n",
    "    for x in keys:\n",
    "        print(x, '\\t', end=' ')\n",
    "        grades = students[x]\n",
    "        print_grades(grades)\n",
    "\n",
    "def print_grades(grades):\n",
    "    for i in range(len(grades)):\n",
    "        print(grades[i], '\\t', end=' ')\n",
    "    print()\n",
    "\n",
    "print_menu()\n",
    "menu_choice = 0\n",
    "while menu_choice != 6:\n",
    "    print()\n",
    "    menu_choice = int(input(\"Menu Choice (1-6): \"))\n",
    "    if menu_choice == 1:\n",
    "        name = input(\"Student to add: \")\n",
    "        students[name] = [0] * len(max_points)\n",
    "    elif menu_choice == 2:\n",
    "        name = input(\"Student to remove: \")\n",
    "        if name in students:\n",
    "            del students[name]\n",
    "        else:\n",
    "            print(\"Student:\", name, \"not found\")\n",
    "    elif menu_choice == 3:\n",
    "        print_all_grades()\n",
    "    elif menu_choice == 4:\n",
    "        print(\"Record Grade\")\n",
    "        name = input(\"Student: \")\n",
    "        if name in students:\n",
    "            grades = students[name]\n",
    "            print(\"Type in the number of the grade to record\")\n",
    "            print(\"Type a 0 (zero) to exit\")\n",
    "            for i in range(len(assignments)):\n",
    "                print(i + 1, assignments[i], '\\t', end=' ')\n",
    "            print()\n",
    "            print_grades(grades)\n",
    "            which = 1234\n",
    "            while which != -1:\n",
    "                which = int(input(\"Change which Grade: \"))\n",
    "                which -= 1    #same as which = which - 1\n",
    "                if 0 <= which < len(grades):\n",
    "                    grade = int(input(\"Grade: \"))\n",
    "                    grades[which] = grade\n",
    "                elif which != -1:\n",
    "                    print(\"Invalid Grade Number\")\n",
    "        else:\n",
    "            print(\"Student not found\")\n",
    "    elif menu_choice != 6:\n",
    "        print_menu()"
   ]
  }
 ],
 "metadata": {
  "kernelspec": {
   "display_name": "Python 3",
   "language": "python",
   "name": "python3"
  },
  "language_info": {
   "codemirror_mode": {
    "name": "ipython",
    "version": 3
   },
   "file_extension": ".py",
   "mimetype": "text/x-python",
   "name": "python",
   "nbconvert_exporter": "python",
   "pygments_lexer": "ipython3",
   "version": "3.7.3"
  }
 },
 "nbformat": 4,
 "nbformat_minor": 2
}
